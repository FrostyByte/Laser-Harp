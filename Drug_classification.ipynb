{
  "nbformat": 4,
  "nbformat_minor": 0,
  "metadata": {
    "colab": {
      "name": "Drug_classification.ipynb",
      "provenance": [],
      "collapsed_sections": [],
      "authorship_tag": "ABX9TyNPc/KKvEaCE43yQ7nNRuzf",
      "include_colab_link": true
    },
    "kernelspec": {
      "name": "python3",
      "display_name": "Python 3"
    },
    "accelerator": "GPU"
  },
  "cells": [
    {
      "cell_type": "markdown",
      "metadata": {
        "id": "view-in-github",
        "colab_type": "text"
      },
      "source": [
        "<a href=\"https://colab.research.google.com/github/FrostyByte/Laser-Harp/blob/master/Drug_classification.ipynb\" target=\"_parent\"><img src=\"https://colab.research.google.com/assets/colab-badge.svg\" alt=\"Open In Colab\"/></a>"
      ]
    },
    {
      "cell_type": "code",
      "metadata": {
        "id": "i5HkPMLqwpQZ",
        "colab_type": "code",
        "colab": {
          "base_uri": "https://localhost:8080/",
          "height": 112
        },
        "outputId": "1677684c-be76-4db5-a2a4-fdd16c556545"
      },
      "source": [
        "import h5py\n",
        "import numpy as np\n",
        "\n",
        "import pandas as pd\n",
        "from matplotlib import pyplot as plt\n",
        "import sklearn\n",
        "from numba import njit,prange,jit,guvectorize\n",
        "import numba\n",
        "import cupy as cp\n",
        "from sklearn.model_selection import GridSearchCV,KFold,cross_val_score,train_test_split,StratifiedKFold\n",
        "from sklearn.metrics import confusion_matrix,plot_confusion_matrix, auc as aucc,plot_roc_curve,recall_score,precision_score,f1_score\n",
        "from sklearn.decomposition import PCA\n",
        "from sklearn.preprocessing import StandardScaler\n",
        "from imblearn.over_sampling import RandomOverSampler,SMOTE\n",
        "from imblearn.under_sampling import RandomUnderSampler\n",
        "from imblearn.pipeline import Pipeline\n",
        "import time\n",
        "import os\n",
        "from google.colab import drive\n",
        "from scipy.special import expit \n"
      ],
      "execution_count": 2,
      "outputs": [
        {
          "output_type": "stream",
          "text": [
            "/usr/local/lib/python3.6/dist-packages/sklearn/externals/six.py:31: FutureWarning: The module is deprecated in version 0.21 and will be removed in version 0.23 since we've dropped support for Python 2.7. Please rely on the official version of six (https://pypi.org/project/six/).\n",
            "  \"(https://pypi.org/project/six/).\", FutureWarning)\n",
            "/usr/local/lib/python3.6/dist-packages/sklearn/utils/deprecation.py:144: FutureWarning: The sklearn.neighbors.base module is  deprecated in version 0.22 and will be removed in version 0.24. The corresponding classes / functions should instead be imported from sklearn.neighbors. Anything that cannot be imported from sklearn.neighbors is now part of the private API.\n",
            "  warnings.warn(message, FutureWarning)\n"
          ],
          "name": "stderr"
        }
      ]
    },
    {
      "cell_type": "code",
      "metadata": {
        "id": "cqLrsYvB4T4C",
        "colab_type": "code",
        "colab": {
          "base_uri": "https://localhost:8080/",
          "height": 36
        },
        "outputId": "a4fb2d63-bc7f-40b3-99a6-65d1e3316719"
      },
      "source": [
        "drive.mount('/content/drive')"
      ],
      "execution_count": 3,
      "outputs": [
        {
          "output_type": "stream",
          "text": [
            "Drive already mounted at /content/drive; to attempt to forcibly remount, call drive.mount(\"/content/drive\", force_remount=True).\n"
          ],
          "name": "stdout"
        }
      ]
    },
    {
      "cell_type": "code",
      "metadata": {
        "id": "fsKG2b8yws2y",
        "colab_type": "code",
        "colab": {}
      },
      "source": [
        "def counte(y):    \n",
        "    s=0\n",
        "    idx1,idx0=[],[]\n",
        "    for i in np.arange(len(y)):\n",
        "        if(y[i]==1.0): \n",
        "            s+=1\n",
        "            idx1.append(i)\n",
        "        else: idx0.append(i)\n",
        "    return [idx0,idx1,s]\n"
      ],
      "execution_count": 4,
      "outputs": []
    },
    {
      "cell_type": "code",
      "metadata": {
        "id": "5Np4EA-Hw6sT",
        "colab_type": "code",
        "colab": {
          "base_uri": "https://localhost:8080/",
          "height": 54
        },
        "outputId": "e5fe4946-5844-4797-c735-bf0a632198d5"
      },
      "source": [
        "hf = h5py.File('/content/drive/My Drive/Drug_data/Morgan.h5', 'r')\n",
        "x=np.array(hf.get('fingerprints'))\n",
        "y=np.array(hf.get('active'))\n",
        "print(x.shape,y.shape)\n",
        "c=counte(y)\n",
        "print('Total active samples=',c[2])\n"
      ],
      "execution_count": 5,
      "outputs": [
        {
          "output_type": "stream",
          "text": [
            "(290893, 2048) (290893, 1)\n",
            "Total active samples= 405\n"
          ],
          "name": "stdout"
        }
      ]
    },
    {
      "cell_type": "code",
      "metadata": {
        "id": "C9HHypYk6oxx",
        "colab_type": "code",
        "colab": {}
      },
      "source": [
        "pca = PCA(n_components=100)\n",
        "PC = pca.fit_transform(x)\n",
        "var=pca.explained_variance_ratio_\n",
        "print(max(var),sum(var))\n",
        "x=np.arange(len(var))\n",
        "plt.bar(x,var)\n",
        "plt.show()\n"
      ],
      "execution_count": null,
      "outputs": []
    },
    {
      "cell_type": "code",
      "metadata": {
        "id": "gWzfIVcN6vlJ",
        "colab_type": "code",
        "colab": {
          "base_uri": "https://localhost:8080/",
          "height": 36
        },
        "outputId": "bb4c421c-a2ef-4b98-c9de-70eac8f8794d"
      },
      "source": [
        "x_train,x_test,y_train,y_test=train_test_split(x,y,test_size=0.2)\n",
        "print(x_train.shape,x_test.shape)\n",
        "del x \n",
        "del y"
      ],
      "execution_count": 6,
      "outputs": [
        {
          "output_type": "stream",
          "text": [
            "(232714, 2048) (58179, 2048)\n"
          ],
          "name": "stdout"
        }
      ]
    },
    {
      "cell_type": "code",
      "metadata": {
        "id": "YGJs6hiM65ld",
        "colab_type": "code",
        "colab": {}
      },
      "source": [
        "scaler=StandardScaler().fit(x_train)\n"
      ],
      "execution_count": 7,
      "outputs": []
    },
    {
      "cell_type": "code",
      "metadata": {
        "id": "LqrN_d5nnpVV",
        "colab_type": "code",
        "colab": {
          "base_uri": "https://localhost:8080/",
          "height": 36
        },
        "outputId": "8c9a8250-dbca-4f5e-9320-06bd66e39432"
      },
      "source": [
        "x_train=scaler.transform(x_train)\n",
        "x_test=scaler.transform(x_test)\n",
        "c=counte(y_train)\n",
        "print('No. of active samples=',c[2])"
      ],
      "execution_count": 8,
      "outputs": [
        {
          "output_type": "stream",
          "text": [
            "No. of active samples= 326\n"
          ],
          "name": "stdout"
        }
      ]
    },
    {
      "cell_type": "code",
      "metadata": {
        "id": "X6rsKHhmnwd6",
        "colab_type": "code",
        "colab": {
          "base_uri": "https://localhost:8080/",
          "height": 36
        },
        "outputId": "8978b81c-9da3-4fb5-a67b-5c462f7b4a92"
      },
      "source": [
        "x_act,y_act=x_train[c[1]],y_train[c[1]]\n",
        "x_inact,y_inact=x_train[c[0]],y_train[c[0]]\n",
        "del x_train\n",
        "\n",
        "print(x_act.shape,x_inact.shape)"
      ],
      "execution_count": 9,
      "outputs": [
        {
          "output_type": "stream",
          "text": [
            "(326, 2048) (232388, 2048)\n"
          ],
          "name": "stdout"
        }
      ]
    },
    {
      "cell_type": "code",
      "metadata": {
        "id": "DatmJ-zMhi0N",
        "colab_type": "code",
        "colab": {
          "base_uri": "https://localhost:8080/",
          "height": 36
        },
        "outputId": "802e8249-e45a-4b1a-e934-a42f4d4a70ad"
      },
      "source": [
        "\n",
        "cols_del=[]\n",
        "for i in np.arange(x_act.shape[1]):\n",
        "    if x_act[:,i].std()==0.0:\n",
        "        cols_del.append(i)\n",
        "print('Number of columns to be deleted=',len(cols_del))"
      ],
      "execution_count": 10,
      "outputs": [
        {
          "output_type": "stream",
          "text": [
            "Number of columns to be deleted= 148\n"
          ],
          "name": "stdout"
        }
      ]
    },
    {
      "cell_type": "code",
      "metadata": {
        "id": "7xnRlYWqZhdU",
        "colab_type": "code",
        "colab": {
          "base_uri": "https://localhost:8080/",
          "height": 36
        },
        "outputId": "c38158ff-d41f-485e-b394-315cab70eaad"
      },
      "source": [
        "def delete_cols(x,col_idx):\n",
        "    return np.delete(x,col_idx,axis=1)\n",
        "x_act=delete_cols(x_act,cols_del)\n",
        "x_test=delete_cols(x_test,cols_del)\n",
        "x_inact=delete_cols(x_inact,cols_del)\n",
        "#x_train=delete_cols(x_train,cols_del)\n",
        "print(x_test.shape,x_act.shape)"
      ],
      "execution_count": 11,
      "outputs": [
        {
          "output_type": "stream",
          "text": [
            "(58179, 1900) (326, 1900)\n"
          ],
          "name": "stdout"
        }
      ]
    },
    {
      "cell_type": "code",
      "metadata": {
        "id": "MR5eQ3juZ0hM",
        "colab_type": "code",
        "colab": {
          "base_uri": "https://localhost:8080/",
          "height": 111
        },
        "outputId": "0dac1d64-db13-4d32-f63f-b8d78a3f6428"
      },
      "source": [
        "class RMTClassifier(object):\n",
        "    def __init__(self,threshold=1,train_cutoff=0.95):\n",
        "        self.threshold=threshold\n",
        "        self.train_cutoff=train_cutoff\n",
        "        self.epsilon = None\n",
        "        self.feature_vecs = None\n",
        "        self.dim_v= None\n",
        "        self.p = None\n",
        "    def fit(self,train_mat):\n",
        "        n,p=train_mat.shape\n",
        "        self.p=p\n",
        "        gamma= p/n\n",
        "        thresh= ((1+np.sqrt(gamma))**2)*self.threshold\n",
        "        c_mat=np.dot(train_mat.T,train_mat)/n\n",
        "\n",
        "        evals,evecs=np.linalg.eig(c_mat)\n",
        "        idx= evals.argsort()\n",
        "        idx= idx[::-1]\n",
        "        evals,evecs= evals[idx],evecs[:,idx]\n",
        "        \n",
        "\n",
        "        dim_v= evals[evals>thresh].shape[0]\n",
        "        feature_vecs= np.ascontiguousarray(evecs[:,:dim_v].T,dtype=np.complex128)\n",
        "        self.dim_v,self.feature_vecs=dim_v,feature_vecs\n",
        "        train_mat=np.ascontiguousarray(train_mat,dtype=np.complex128)\n",
        "        \n",
        "        trial_mol_proj= np.zeros((self.dim_v,self.p),dtype=np.complex128)\n",
        "        similarity=find_similarity2(train_mat,trial_mol_proj,feature_vecs)\n",
        "        similarity.sort()\n",
        "  \n",
        "        cutoff_idx= int(self.train_cutoff*len(similarity))\n",
        "        epsilon= similarity[cutoff_idx]\n",
        "        self.epsilon= epsilon\n",
        "\n",
        "    def predict(self,test, epsilon_multiple = 1):\n",
        "        test=np.ascontiguousarray(test,dtype=np.complex128)\n",
        "        trial_mol_proj= np.zeros((self.dim_v,self.p),dtype=np.complex128)\n",
        "        test_similarity=find_similarity2(test,trial_mol_proj,self.feature_vecs)\n",
        "        \n",
        "        #predictions= np.array([1 if x<self.epsilon*epsilon_multiple else 0 for x in test_similarity])\n",
        "        predictions= test_similarity,self.epsilon\n",
        "        return predictions\n",
        "\n",
        "\n",
        "@guvectorize([\"c16[:],c16[:,:],c16[:,:],f8[:]\"], \"(p),(dim_v,p), (dim_v,p) -> ()\", nopython=True, target=\"parallel\")\n",
        "def find_similarity2(trial_mol,trial_mol_proj,feature_vecs,similarity):\n",
        "    dummy=np.zeros_like(trial_mol_proj)\n",
        "    for idx in prange(feature_vecs.shape[0]):\n",
        "        dotprod= np.vdot(feature_vecs[idx],trial_mol).real\n",
        "        dummy[idx]=dotprod*feature_vecs[idx]  \n",
        "    projection=np.sum(dummy,axis=0).real\n",
        "    similarity[0]=np.linalg.norm(trial_mol-projection)\n",
        "\n",
        "\n",
        "\"\"\"@njit(parallel=True)\n",
        "def find_similarity(trial_mol,dim_v,p,feature_vecs):\n",
        "    trial_mol_proj= np.zeros((dim_v,p),dtype=np.complex128)\n",
        "    for idx in prange(dim_v):\n",
        "        dotprod= np.vdot(feature_vecs[idx],trial_mol).real\n",
        "        trial_mol_proj[idx]=dotprod*feature_vecs[idx]  \n",
        "    projection=np.sum(trial_mol_proj,axis=0).real\n",
        "    similarity=np.linalg.norm(trial_mol-projection)\n",
        "    return similarity\"\"\"\n"
      ],
      "execution_count": 12,
      "outputs": [
        {
          "output_type": "stream",
          "text": [
            "<ipython-input-12-e1a3f038966d>:49: NumbaPerformanceWarning: np.vdot() is faster on contiguous arrays, called on (array(complex128, 1d, A), array(complex128, 1d, A))\n",
            "  dotprod= np.vdot(feature_vecs[idx],trial_mol).real\n"
          ],
          "name": "stderr"
        },
        {
          "output_type": "execute_result",
          "data": {
            "application/vnd.google.colaboratory.intrinsic+json": {
              "type": "string"
            },
            "text/plain": [
              "'@njit(parallel=True)\\ndef find_similarity(trial_mol,dim_v,p,feature_vecs):\\n    trial_mol_proj= np.zeros((dim_v,p),dtype=np.complex128)\\n    for idx in prange(dim_v):\\n        dotprod= np.vdot(feature_vecs[idx],trial_mol).real\\n        trial_mol_proj[idx]=dotprod*feature_vecs[idx]  \\n    projection=np.sum(trial_mol_proj,axis=0).real\\n    similarity=np.linalg.norm(trial_mol-projection)\\n    return similarity'"
            ]
          },
          "metadata": {
            "tags": []
          },
          "execution_count": 12
        }
      ]
    },
    {
      "cell_type": "code",
      "metadata": {
        "id": "gPfVNaEtBJx-",
        "colab_type": "code",
        "colab": {
          "base_uri": "https://localhost:8080/",
          "height": 212
        },
        "outputId": "7698e740-206f-4253-e963-ac413dd9ce92"
      },
      "source": [
        "  t=time.time()\n",
        "  clf1,clf0=fit_RMT(x_act,x_inact[:1000])\n",
        "  print(time.time()-t)"
      ],
      "execution_count": 12,
      "outputs": [
        {
          "output_type": "error",
          "ename": "NameError",
          "evalue": "ignored",
          "traceback": [
            "\u001b[0;31m---------------------------------------------------------------------------\u001b[0m",
            "\u001b[0;31mNameError\u001b[0m                                 Traceback (most recent call last)",
            "\u001b[0;32m<ipython-input-12-d973cdc45b54>\u001b[0m in \u001b[0;36m<module>\u001b[0;34m()\u001b[0m\n\u001b[1;32m      1\u001b[0m \u001b[0mt\u001b[0m\u001b[0;34m=\u001b[0m\u001b[0mtime\u001b[0m\u001b[0;34m.\u001b[0m\u001b[0mtime\u001b[0m\u001b[0;34m(\u001b[0m\u001b[0;34m)\u001b[0m\u001b[0;34m\u001b[0m\u001b[0;34m\u001b[0m\u001b[0m\n\u001b[0;32m----> 2\u001b[0;31m \u001b[0mclf1\u001b[0m\u001b[0;34m,\u001b[0m\u001b[0mclf0\u001b[0m\u001b[0;34m=\u001b[0m\u001b[0mfit_RMT\u001b[0m\u001b[0;34m(\u001b[0m\u001b[0mx_act\u001b[0m\u001b[0;34m,\u001b[0m\u001b[0mx_inact\u001b[0m\u001b[0;34m[\u001b[0m\u001b[0;34m:\u001b[0m\u001b[0;36m1000\u001b[0m\u001b[0;34m]\u001b[0m\u001b[0;34m)\u001b[0m\u001b[0;34m\u001b[0m\u001b[0;34m\u001b[0m\u001b[0m\n\u001b[0m\u001b[1;32m      3\u001b[0m \u001b[0mprint\u001b[0m\u001b[0;34m(\u001b[0m\u001b[0mtime\u001b[0m\u001b[0;34m.\u001b[0m\u001b[0mtime\u001b[0m\u001b[0;34m(\u001b[0m\u001b[0;34m)\u001b[0m\u001b[0;34m-\u001b[0m\u001b[0mt\u001b[0m\u001b[0;34m)\u001b[0m\u001b[0;34m\u001b[0m\u001b[0;34m\u001b[0m\u001b[0m\n",
            "\u001b[0;31mNameError\u001b[0m: name 'fit_RMT' is not defined"
          ]
        }
      ]
    },
    {
      "cell_type": "code",
      "metadata": {
        "id": "6A7I1YpBA4JT",
        "colab_type": "code",
        "colab": {
          "base_uri": "https://localhost:8080/",
          "height": 36
        },
        "outputId": "8f708830-0044-4acf-b754-62c70d542e79"
      },
      "source": [
        "#b=projection(np.complex_(x_test[0]),clf1.dim_v,clf1.p,clf1.feature_vecs)\n",
        "print(a==b)"
      ],
      "execution_count": null,
      "outputs": [
        {
          "output_type": "stream",
          "text": [
            "[ True  True  True ...  True  True  True]\n"
          ],
          "name": "stdout"
        }
      ]
    },
    {
      "cell_type": "code",
      "metadata": {
        "id": "jqI29N73iNk3",
        "colab_type": "code",
        "colab": {}
      },
      "source": [
        "def fit_RMT(x_act,x_inact):\n",
        "  clf_act=RMTClassifier()\n",
        "  clf_inact=RMTClassifier()\n",
        "  clf_act.fit(x_act)\n",
        "  clf_inact.fit(x_inact)\n",
        "  return clf_act,clf_inact\n",
        "\n",
        "def clf_predict(clf_act,clf_inact,x_test,e=1,thresh=True):\n",
        "  pred1,epsilon1= clf_act.predict(x_test)\n",
        "  pred0,epsilon0= clf_inact.predict(x_test)\n",
        "  diff=expit(pred1-pred0)\n",
        "  epsilon= expit(epsilon1-epsilon0)\n",
        "  \n",
        "  if thresh==False: pred=[1 if i<e else 0 for i in diff]\n",
        "  else: pred=[1 if i<epsilon*e else 0 for i in diff]\n",
        "  \n",
        "  return pred\n",
        "  \n",
        "def FP_TP_FN_TN(y_test,y_pred):\n",
        "  y1,y2=y_test.ravel(),y_pred.ravel()\n",
        "  fp,tp,fn,tn=0,0,0,0\n",
        "  for i in prange(len(y1)):\n",
        "    a,b=y1[i],y2[i]\n",
        "    if(a==1): \n",
        "      if(b==1):tp+=1\n",
        "      else:fn+=1\n",
        "    else:\n",
        "      if(b==1):fp+=1\n",
        "      else:tn+=1\n",
        "    \n",
        "  return fp,tp,fn,tn\n"
      ],
      "execution_count": 13,
      "outputs": []
    },
    {
      "cell_type": "code",
      "metadata": {
        "id": "kfDgTdyV3aUw",
        "colab_type": "code",
        "colab": {}
      },
      "source": [
        "\n",
        " \n",
        "\"\"\"def FP_TP_FN_TN(clf1,clf0,x_test,y_test,multiple):\n",
        "    #c=counte(y_test)\n",
        "    #x1=x_test[c[1]]\n",
        "    #x0=x_test[c[0]]\n",
        "    #active_pred=clf_predict(clf1,clf0,x1,multiple,thresh=False)\n",
        "    #inactive_pred=clf_predict(clf1,clf0,x0,multiple,thresh=False)\n",
        "    y_pred=clf_predict(clf1,clf0,x_test,multiple)\n",
        "    return \"\"\"\n",
        "\n",
        "\n",
        "    "
      ],
      "execution_count": null,
      "outputs": []
    },
    {
      "cell_type": "code",
      "metadata": {
        "id": "r3nQeiGBGY5P",
        "colab_type": "code",
        "colab": {}
      },
      "source": [
        "t0=time.time()\n",
        "clf_predict(clf1,clf0,x_test[:50000],0)\n",
        "print(time.time()-t0,'s')\n"
      ],
      "execution_count": null,
      "outputs": []
    },
    {
      "cell_type": "code",
      "metadata": {
        "id": "DocEXVzu30xz",
        "colab_type": "code",
        "colab": {}
      },
      "source": [
        "def metric_RMT(clf1,clf0,x_test,y_test,plot=True):\n",
        "  x,y,p,r,f1,e=[],[],[1],[0],[],[]\n",
        "  best_f1=0\n",
        "  arr=np.append(np.logspace(-4,-2,3),np.linspace(0.1,1,20))\n",
        "  for idx,val in enumerate(arr):\n",
        "      #if idx%5==0:\n",
        "          #print(f'progress:{idx}%')\n",
        "      y_pred=clf_predict(clf1,clf0,x_test,val,thresh=False)\n",
        "      fp,tp,fn,tn= FP_TP_FN_TN(np.array(y_test),np.array(y_pred))\n",
        "      tpr=tp/(tp+fn)\n",
        "      fpr=fp/(fp+tn)\n",
        "      precision= tp/(tp+fp)\n",
        "      recall= tpr\n",
        "      f1_sc=(2*precision*recall)/(precision+recall)\n",
        "      f1.append(f1_sc)\n",
        "      p.append(precision)\n",
        "      r.append(recall)\n",
        "      e.append(val)\n",
        "      x.append(fpr)\n",
        "      y.append(tpr)\n",
        "      if(best_f1<f1_sc):\n",
        "        best_f1,i=f1_sc,idx  \n",
        "  print('ok')\n",
        "  AUC_ROC,AUC_PR=aucc(x,y),aucc(r,p)\n",
        "  if(plot==True):\n",
        "    fig1,fig2=plt.figure(),plt.figure()\n",
        "    ax1,ax2=fig1.add_subplot(111),fig2.add_subplot(111)\n",
        "    ax1.set_title('ROC')\n",
        "    ax1.set_ylabel('True Positive')\n",
        "    ax1.set_xlabel('False Positive')\n",
        "    ax1.text(0.75,0.15,f'AUC:{str(np.round(AUC_ROC,4))}')\n",
        "    ax1.plot(x,y)\n",
        "    ax1.axis([0,1,0,1])\n",
        "    ax2.set_title('Precision/Recall')\n",
        "    ax2.set_ylabel('Precision')\n",
        "    ax2.set_xlabel('Recall')\n",
        "    ax2.text(0.75,0.15,f'AUC-PR:{str(np.round(AUC_PR,4))}')\n",
        "    ax2.plot(r,p)\n",
        "    ax2.axis([0,1,0,1])\n",
        "    plt.show()\n",
        "  \n",
        "  return AUC_ROC,AUC_PR,p,r,f1,best_f1,e,i"
      ],
      "execution_count": 14,
      "outputs": []
    },
    {
      "cell_type": "code",
      "metadata": {
        "id": "bnGlWZwgZ_Qo",
        "colab_type": "code",
        "colab": {
          "base_uri": "https://localhost:8080/",
          "height": 88
        },
        "outputId": "951a0e9f-9f3d-48f7-8d7b-4b3f454d063c"
      },
      "source": [
        "clf=RMTClassifier()\n",
        "t0=time.time()\n",
        "clf.fit(x_act)\n",
        "print(time.time()-t0,'s')\n",
        "pred=clf.predict(x_test)\n",
        "train_pred=clf.predict(x_act)\n",
        "inact_pred=clf.predict(x_inact[:50000])\n",
        "print(time.time()-t0,'s')\n",
        "print('TPR/Recall on test=',np.mean(train_pred))\n",
        "print('FPR=',np.mean(inact_pred))\n"
      ],
      "execution_count": null,
      "outputs": [
        {
          "output_type": "stream",
          "text": [
            "5.9049413204193115 s\n",
            "192.7643337249756 s\n",
            "TPR/Recall on test= 0.8971061093247589\n",
            "FPR= 0.6269\n"
          ],
          "name": "stdout"
        }
      ]
    },
    {
      "cell_type": "code",
      "metadata": {
        "id": "cTjJHG3Vxzfu",
        "colab_type": "code",
        "colab": {
          "base_uri": "https://localhost:8080/",
          "height": 1000
        },
        "outputId": "66b11830-b261-4833-c205-42466a11a122"
      },
      "source": [
        "l=[['e','n_inactive_samples','AUC','Precision','Recall','F1','F1*AUC']]\n",
        "for n in np.arange(500,12500,1500):\n",
        "  \n",
        "  clf1,clf0=fit_RMT(x_act,x_inact[:n])\n",
        "  for i in np.arange(10):\n",
        "    t0=time.time()\n",
        "    pred=clf_predict(clf1,clf0,x_test,i)\n",
        "    print(((10*(7-((n-500)/1500)))+(9-i))*(time.time()-t0),'s left to finish')\n",
        "    print('e=',i)\n",
        "    print(confusion_matrix(y_test,pred))\n",
        "    auc_sc,prec,recall,f1=roc_auc_score(y_test,pred),precision_score(y_test,pred),recall_score(y_test,pred),f1_score(y_test,pred)\n",
        "    print('AUC=',auc_sc, 'precision= ',prec,'recall= ',recall,'f1= ',f1,'F1*AUC=',f1*auc_sc)\n",
        "    l.append([i,n,auc_sc,prec,recall,f1,f1*auc_sc])\n"
      ],
      "execution_count": null,
      "outputs": [
        {
          "output_type": "stream",
          "text": [
            "13457.16244673729 s left to finish\n",
            "e= 0\n",
            "[[35265 22833]\n",
            " [   22    59]]\n",
            "AUC= 0.6676933482761567 precision=  0.002577319587628866 recall=  0.7283950617283951 f1=  0.005136464545335829 F1*AUC= 0.003429583210577046\n",
            "13291.951274871826 s left to finish\n",
            "e= 1\n",
            "[[42958 15140]\n",
            " [   29    52]]\n",
            "AUC= 0.6906905700840088 precision=  0.0034228541337546076 recall=  0.6419753086419753 f1=  0.006809402213055719 F1*AUC= 0.004703189896466765\n",
            "13119.168603181839 s left to finish\n",
            "e= 2\n",
            "[[47690 10408]\n",
            " [   36    45]]\n",
            "AUC= 0.688204986976029 precision=  0.004304984215057878 recall=  0.5555555555555556 f1=  0.008543763052971332 F1*AUC= 0.005879860340596414\n",
            "12988.66981124878 s left to finish\n",
            "e= 3\n",
            "[[50619  7479]\n",
            " [   43    38]]\n",
            "AUC= 0.6702025186052173 precision=  0.005055208194758547 recall=  0.4691358024691358 f1=  0.010002632271650434 F1*AUC= 0.006703789341141947\n",
            "12821.028918027878 s left to finish\n",
            "e= 4\n",
            "[[52490  5608]\n",
            " [   44    37]]\n",
            "AUC= 0.6801317824416727 precision=  0.006554472984942427 recall=  0.4567901234567901 f1=  0.012923506811037372 F1*AUC= 0.008789687722787945\n",
            "12588.770428657532 s left to finish\n",
            "e= 5\n",
            "[[53738  4360]\n",
            " [   45    36]]\n",
            "AUC= 0.6846994159294066 precision=  0.00818926296633303 recall=  0.4444444444444444 f1=  0.016082197900379718 F1*AUC= 0.011011471509251122\n",
            "12449.233141899109 s left to finish\n",
            "e= 6\n",
            "[[54586  3512]\n",
            " [   48    33]]\n",
            "AUC= 0.6734789111118762 precision=  0.00930888575458392 recall=  0.4074074074074074 f1=  0.018201875344732485 F1*AUC= 0.01225857918736454\n",
            "12284.558280944824 s left to finish\n",
            "e= 7\n",
            "[[55185  2913]\n",
            " [   50    31]]\n",
            "AUC= 0.6662883148906763 precision=  0.010529891304347826 recall=  0.38271604938271603 f1=  0.02049586776859504 F1*AUC= 0.013656157197759314\n",
            "12090.03062081337 s left to finish\n",
            "e= 8\n",
            "[[55662  2436]\n",
            " [   50    31]]\n",
            "AUC= 0.6703934475974821 precision=  0.01256586947709769 recall=  0.38271604938271603 f1=  0.02433281004709576 F1*AUC= 0.016312556417207177\n",
            "11976.075789928436 s left to finish\n",
            "e= 9\n",
            "[[56029  2069]\n",
            " [   51    30]]\n",
            "AUC= 0.6673790644925622 precision=  0.014292520247737018 recall=  0.37037037037037035 f1=  0.027522935779816515 F1*AUC= 0.018368231132822814\n",
            "14265.286545753479 s left to finish\n",
            "e= 0\n",
            "[[55356  2742]\n",
            " [   50    31]]\n",
            "AUC= 0.6677599662383992 precision=  0.011179228272628922 recall=  0.38271604938271603 f1=  0.02172389628591451 F1*AUC= 0.014506348250448758\n",
            "14063.99447631836 s left to finish\n",
            "e= 1\n",
            "[[57386   712]\n",
            " [   55    26]]\n",
            "AUC= 0.6543662496190983 precision=  0.03523035230352303 recall=  0.32098765432098764 f1=  0.06349206349206349 F1*AUC= 0.04154706346787925\n",
            "13889.18352508545 s left to finish\n",
            "e= 2\n",
            "[[57760   338]\n",
            " [   59    22]]\n",
            "AUC= 0.632893591033286 precision=  0.06111111111111111 recall=  0.2716049382716049 f1=  0.09977324263038549 F1*AUC= 0.06314584581738002\n",
            "13689.056386470795 s left to finish\n",
            "e= 3\n",
            "[[57895   203]\n",
            " [   65    16]]\n",
            "AUC= 0.597018384007609 precision=  0.0730593607305936 recall=  0.19753086419753085 f1=  0.10666666666666666 F1*AUC= 0.06368196096081162\n",
            "13393.85406255722 s left to finish\n",
            "e= 4\n",
            "[[57970   128]\n",
            " [   65    16]]\n",
            "AUC= 0.5976638451250313 precision=  0.1111111111111111 recall=  0.19753086419753085 f1=  0.14222222222222222 F1*AUC= 0.08500108019556002\n",
            "13269.873474121094 s left to finish\n",
            "e= 5\n",
            "[[57990   108]\n",
            " [   68    13]]\n",
            "AUC= 0.5793174495711588 precision=  0.10743801652892562 recall=  0.16049382716049382 f1=  0.12871287128712872 F1*AUC= 0.07456561232104025\n",
            "13098.711612939835 s left to finish\n",
            "e= 6\n",
            "[[58013    85]\n",
            " [   71    10]]\n",
            "AUC= 0.5609968724619832 precision=  0.10526315789473684 recall=  0.12345679012345678 f1=  0.11363636363636363 F1*AUC= 0.06374964459795263\n",
            "12798.183714866638 s left to finish\n",
            "e= 7\n",
            "[[58037    61]\n",
            " [   74     7]]\n",
            "AUC= 0.5426849015010397 precision=  0.10294117647058823 recall=  0.08641975308641975 f1=  0.09395973154362416 F1*AUC= 0.05099052765781581\n",
            "12583.025329113007 s left to finish\n",
            "e= 8\n",
            "[[58057    41]\n",
            " [   76     5]]\n",
            "AUC= 0.5305113454533401 precision=  0.10869565217391304 recall=  0.06172839506172839 f1=  0.07874015748031496 F1*AUC= 0.04177254688608977\n",
            "12456.611337661743 s left to finish\n",
            "e= 9\n",
            "[[58071    27]\n",
            " [   76     5]]\n",
            "AUC= 0.5306318315285923 precision=  0.15625 recall=  0.06172839506172839 f1=  0.08849557522123894 F1*AUC= 0.046958569161822325\n",
            "14808.690968751907 s left to finish\n",
            "e= 0\n",
            "[[57064  1034]\n",
            " [   53    28]]\n",
            "AUC= 0.6639407489006443 precision=  0.026365348399246705 recall=  0.345679012345679 f1=  0.04899387576552931 F1*AUC= 0.03252903056731066\n",
            "14583.0262093544 s left to finish\n",
            "e= 1\n",
            "[[57649   449]\n",
            " [   58    23]]\n",
            "AUC= 0.6381111480856738 precision=  0.048728813559322036 recall=  0.2839506172839506 f1=  0.08318264014466546 F1*AUC= 0.05307977000350994\n",
            "14338.96076631546 s left to finish\n",
            "e= 2\n",
            "[[57845   253]\n",
            " [   63    18]]\n",
            "AUC= 0.60893375560834 precision=  0.06642066420664207 recall=  0.2222222222222222 f1=  0.10227272727272728 F1*AUC= 0.06227731591448932\n",
            "14060.025939941406 s left to finish\n",
            "e= 3\n",
            "[[57941   157]\n",
            " [   65    16]]\n",
            "AUC= 0.5974142668262948 precision=  0.09248554913294797 recall=  0.19753086419753085 f1=  0.12598425196850394 F1*AUC= 0.07526478952142297\n",
            "13831.261475086212 s left to finish\n",
            "e= 4\n",
            "[[57982   116]\n",
            " [   65    16]]\n",
            "AUC= 0.597767118903819 precision=  0.12121212121212122 recall=  0.19753086419753085 f1=  0.15023474178403756 F1*AUC= 0.08980538875550331\n",
            "13530.162852287292 s left to finish\n",
            "e= 5\n",
            "[[58000    98]\n",
            " [   68    13]]\n",
            "AUC= 0.5794035110534819 precision=  0.11711711711711711 recall=  0.16049382716049382 f1=  0.13541666666666666 F1*AUC= 0.07846089212182566\n",
            "13306.913274765015 s left to finish\n",
            "e= 6\n",
            "[[58011    87]\n",
            " [   71    10]]\n",
            "AUC= 0.5609796601655186 precision=  0.10309278350515463 recall=  0.12345679012345678 f1=  0.11235955056179775 F1*AUC= 0.06303142249050771\n",
            "13090.262084960938 s left to finish\n",
            "e= 7\n",
            "[[58036    62]\n",
            " [   75     6]]\n",
            "AUC= 0.5365034558466345 precision=  0.08823529411764706 recall=  0.07407407407407407 f1=  0.08053691275167785 F1*AUC= 0.043208332014494054\n",
            "12820.172457933426 s left to finish\n",
            "e= 8\n",
            "[[58050    48]\n",
            " [   76     5]]\n",
            "AUC= 0.530451102415714 precision=  0.09433962264150944 recall=  0.06172839506172839 f1=  0.0746268656716418 F1*AUC= 0.03958590316535179\n",
            "12552.615714073181 s left to finish\n",
            "e= 9\n",
            "[[58064    34]\n",
            " [   76     5]]\n",
            "AUC= 0.5305715884909661 precision=  0.1282051282051282 recall=  0.06172839506172839 f1=  0.08333333333333333 F1*AUC= 0.04421429904091384\n",
            "13709.368927240372 s left to finish\n",
            "e= 0\n",
            "[[57389   709]\n",
            " [   57    24]]\n",
            "AUC= 0.6420463890514494 precision=  0.03274215552523874 recall=  0.2962962962962963 f1=  0.05896805896805896 F1*AUC= 0.03786022932981519\n",
            "13446.831035614014 s left to finish\n",
            "e= 1\n",
            "[[57708   390]\n",
            " [   59    22]]\n",
            "AUC= 0.6324460713252065 precision=  0.05339805825242718 recall=  0.2716049382716049 f1=  0.08924949290060852 F1*AUC= 0.056445491152756766\n",
            "13166.663027763367 s left to finish\n",
            "e= 2\n",
            "[[57837   261]\n",
            " [   64    17]]\n",
            "AUC= 0.6026920669163087 precision=  0.06115107913669065 recall=  0.20987654320987653 f1=  0.0947075208913649 F1*AUC= 0.0570794715185362\n",
            "12915.511860847473 s left to finish\n",
            "e= 3\n",
            "[[57911   187]\n",
            " [   64    17]]\n",
            "AUC= 0.6033289218854987 precision=  0.08333333333333333 recall=  0.20987654320987653 f1=  0.11929824561403508 F1*AUC= 0.07197608190914721\n",
            "12601.11924290657 s left to finish\n",
            "e= 4\n",
            "[[57971   127]\n",
            " [   65    16]]\n",
            "AUC= 0.5976724512732636 precision=  0.11188811188811189 recall=  0.19753086419753085 f1=  0.14285714285714288 F1*AUC= 0.08538177875332338\n",
            "12342.31281375885 s left to finish\n",
            "e= 5\n",
            "[[57990   108]\n",
            " [   66    15]]\n",
            "AUC= 0.5916631285835044 precision=  0.12195121951219512 recall=  0.18518518518518517 f1=  0.14705882352941174 F1*AUC= 0.08700928361522123\n",
            "12043.025897979736 s left to finish\n",
            "e= 6\n",
            "[[57996   102]\n",
            " [   69    12]]\n",
            "AUC= 0.5731962469543798 precision=  0.10526315789473684 recall=  0.14814814814814814 f1=  0.12307692307692308 F1*AUC= 0.07054723039438521\n",
            "11809.43627500534 s left to finish\n",
            "e= 7\n",
            "[[58015    83]\n",
            " [   71    10]]\n",
            "AUC= 0.5610140847584477 precision=  0.10752688172043011 recall=  0.12345679012345678 f1=  0.11494252873563217 F1*AUC= 0.06448437755844226\n",
            "11426.214049339294 s left to finish\n",
            "e= 8\n",
            "[[58031    67]\n",
            " [   75     6]]\n",
            "AUC= 0.5364604251054731 precision=  0.0821917808219178 recall=  0.07407407407407407 f1=  0.07792207792207792 F1*AUC= 0.04180211104717972\n",
            "11185.877380371094 s left to finish\n",
            "e= 9\n",
            "[[58043    55]\n",
            " [   76     5]]\n",
            "AUC= 0.5303908593780878 precision=  0.08333333333333333 recall=  0.06172839506172839 f1=  0.07092198581560284 F1*AUC= 0.03761637300553815\n",
            "12036.664931058884 s left to finish\n",
            "e= 0\n",
            "[[57581   517]\n",
            " [   59    22]]\n",
            "AUC= 0.6313530904997048 precision=  0.04081632653061224 recall=  0.2716049382716049 f1=  0.07096774193548387 F1*AUC= 0.04480570319675324\n",
            "11726.492448806763 s left to finish\n",
            "e= 1\n",
            "[[57772   326]\n",
            " [   61    20]]\n",
            "AUC= 0.6206511857997279 precision=  0.057803468208092484 recall=  0.24691358024691357 f1=  0.0936768149882904 F1*AUC= 0.05814062630442416\n",
            "11422.470654964447 s left to finish\n",
            "e= 2\n",
            "[[57860   238]\n",
            " [   63    18]]\n",
            "AUC= 0.6090628478318244 precision=  0.0703125 recall=  0.2222222222222222 f1=  0.10682492581602375 F1*AUC= 0.06506309353693081\n",
            "11084.626879692078 s left to finish\n",
            "e= 3\n",
            "[[57922   176]\n",
            " [   64    17]]\n",
            "AUC= 0.603423589516054 precision=  0.08808290155440414 recall=  0.20987654320987653 f1=  0.1240875912408759 F1*AUC= 0.0748773797209702\n",
            "10808.223885297775 s left to finish\n",
            "e= 4\n",
            "[[57971   127]\n",
            " [   65    16]]\n",
            "AUC= 0.5976724512732636 precision=  0.11188811188811189 recall=  0.19753086419753085 f1=  0.14285714285714288 F1*AUC= 0.08538177875332338\n",
            "10519.724555492401 s left to finish\n",
            "e= 5\n",
            "[[57989   109]\n",
            " [   66    15]]\n",
            "AUC= 0.5916545224352722 precision=  0.12096774193548387 recall=  0.18518518518518517 f1=  0.14634146341463414 F1*AUC= 0.08658358864906421\n",
            "10159.016220331192 s left to finish\n",
            "e= 6\n",
            "[[58001    97]\n",
            " [   68    13]]\n",
            "AUC= 0.579412117201714 precision=  0.11818181818181818 recall=  0.16049382716049382 f1=  0.13612565445026178 F1*AUC= 0.07887285365049511\n",
            "9863.606819152832 s left to finish\n",
            "e= 7\n",
            "[[58011    87]\n",
            " [   69    12]]\n",
            "AUC= 0.5733253391778642 precision=  0.12121212121212122 recall=  0.14814814814814814 f1=  0.13333333333333333 F1*AUC= 0.07644337855704857\n",
            "9587.304441452026 s left to finish\n",
            "e= 8\n",
            "[[58023    75]\n",
            " [   71    10]]\n",
            "AUC= 0.5610829339443061 precision=  0.11764705882352941 recall=  0.12345679012345678 f1=  0.12048192771084337 F1*AUC= 0.0676003534872658\n",
            "9256.201958656311 s left to finish\n",
            "e= 9\n",
            "[[58041    57]\n",
            " [   74     7]]\n",
            "AUC= 0.5427193260939689 precision=  0.109375 recall=  0.08641975308641975 f1=  0.09655172413793105 F1*AUC= 0.05240048665734873\n",
            "9632.671869754791 s left to finish\n",
            "e= 0\n",
            "[[57697   401]\n",
            " [   59    22]]\n",
            "AUC= 0.6323514036946513 precision=  0.05200945626477541 recall=  0.2716049382716049 f1=  0.0873015873015873 F1*AUC= 0.055205281274929865\n",
            "9328.463433265686 s left to finish\n",
            "e= 1\n",
            "[[57793   305]\n",
            " [   61    20]]\n",
            "AUC= 0.6208319149126061 precision=  0.06153846153846154 recall=  0.24691358024691357 f1=  0.09852216748768473 F1*AUC= 0.061165705902719816\n",
            "8977.23314166069 s left to finish\n",
            "e= 2\n",
            "[[57865   233]\n",
            " [   63    18]]\n",
            "AUC= 0.6091058785729859 precision=  0.07171314741035857 recall=  0.2222222222222222 f1=  0.10843373493975904 F1*AUC= 0.06604762538743221\n",
            "8668.01293182373 s left to finish\n",
            "e= 3\n",
            "[[57909   189]\n",
            " [   64    17]]\n",
            "AUC= 0.6033117095890341 precision=  0.0825242718446602 recall=  0.20987654320987653 f1=  0.11846689895470383 F1*AUC= 0.07147246733807373\n",
            "8301.512229442596 s left to finish\n",
            "e= 4\n",
            "[[57947   151]\n",
            " [   64    17]]\n",
            "AUC= 0.6036387432218614 precision=  0.10119047619047619 recall=  0.20987654320987653 f1=  0.13654618473895583 F1*AUC= 0.08242456734756341\n",
            "7975.55047416687 s left to finish\n",
            "e= 5\n",
            "[[57977   121]\n",
            " [   65    16]]\n",
            "AUC= 0.5977240881626574 precision=  0.11678832116788321 recall=  0.19753086419753085 f1=  0.14678899082568808 F1*AUC= 0.08773931569360109\n",
            "7631.425009727478 s left to finish\n",
            "e= 6\n",
            "[[57987   111]\n",
            " [   67    14]]\n",
            "AUC= 0.5854644706326346 precision=  0.112 recall=  0.1728395061728395 f1=  0.13592233009708737 F1*AUC= 0.07957769503744548\n",
            "7332.301960945129 s left to finish\n",
            "e= 7\n",
            "[[57994   104]\n",
            " [   67    14]]\n",
            "AUC= 0.5855247136702607 precision=  0.11864406779661017 recall=  0.1728395061728395 f1=  0.14070351758793967 F1*AUC= 0.08238538684807686\n",
            "7001.822029352188 s left to finish\n",
            "e= 8\n",
            "[[57999    99]\n",
            " [   69    12]]\n",
            "AUC= 0.5732220653990766 precision=  0.10810810810810811 recall=  0.14814814814814814 f1=  0.125 F1*AUC= 0.07165275817488458\n",
            "6658.800554275513 s left to finish\n",
            "e= 9\n",
            "[[58015    83]\n",
            " [   69    12]]\n",
            "AUC= 0.5733597637707935 precision=  0.12631578947368421 recall=  0.14814814814814814 f1=  0.13636363636363638 F1*AUC= 0.07818542233238093\n",
            "6660.177540540695 s left to finish\n",
            "e= 0\n",
            "[[57773   325]\n",
            " [   60    21]]\n",
            "AUC= 0.6268326314541331 precision=  0.06069364161849711 recall=  0.25925925925925924 f1=  0.09836065573770492 F1*AUC= 0.06165566866761965\n",
            "6325.979172706604 s left to finish\n",
            "e= 1\n",
            "[[57834   264]\n",
            " [   60    21]]\n",
            "AUC= 0.6273576064963031 precision=  0.07368421052631578 recall=  0.25925925925925924 f1=  0.11475409836065571 F1*AUC= 0.0719918564831823\n",
            "5953.793805599213 s left to finish\n",
            "e= 2\n",
            "[[57875   223]\n",
            " [   64    17]]\n",
            "AUC= 0.603019100549136 precision=  0.07083333333333333 recall=  0.20987654320987653 f1=  0.10591900311526478 F1*AUC= 0.0638711819896281\n",
            "5592.345443725586 s left to finish\n",
            "e= 3\n",
            "[[57905   193]\n",
            " [   64    17]]\n",
            "AUC= 0.603277284996105 precision=  0.08095238095238096 recall=  0.20987654320987653 f1=  0.1168384879725086 F1*AUC= 0.07048600580710507\n",
            "5240.955691337585 s left to finish\n",
            "e= 4\n",
            "[[57928   170]\n",
            " [   64    17]]\n",
            "AUC= 0.6034752264054477 precision=  0.09090909090909091 recall=  0.20987654320987653 f1=  0.12686567164179105 F1*AUC= 0.07656028991710905\n",
            "4915.238696575165 s left to finish\n",
            "e= 5\n",
            "[[57954   144]\n",
            " [   64    17]]\n",
            "AUC= 0.6036989862594875 precision=  0.10559006211180125 recall=  0.20987654320987653 f1=  0.14049586776859505 F1*AUC= 0.08481721294554782\n",
            "4552.987539291382 s left to finish\n",
            "e= 6\n",
            "[[57974   124]\n",
            " [   64    17]]\n",
            "AUC= 0.6038711092241335 precision=  0.12056737588652482 recall=  0.20987654320987653 f1=  0.15315315315315314 F1*AUC= 0.09248476447576819\n",
            "4212.605083465576 s left to finish\n",
            "e= 7\n",
            "[[57986   112]\n",
            " [   65    16]]\n",
            "AUC= 0.5978015434967482 precision=  0.125 recall=  0.19753086419753085 f1=  0.15311004784688995 F1*AUC= 0.09152942292773178\n",
            "3850.831029891968 s left to finish\n",
            "e= 8\n",
            "[[57992   106]\n",
            " [   66    15]]\n",
            "AUC= 0.591680340879969 precision=  0.12396694214876033 recall=  0.18518518518518517 f1=  0.1485148514851485 F1*AUC= 0.08787331795247064\n",
            "3502.800567150116 s left to finish\n",
            "e= 9\n",
            "[[57998   100]\n",
            " [   68    13]]\n",
            "AUC= 0.5793862987570172 precision=  0.11504424778761062 recall=  0.16049382716049382 f1=  0.13402061855670103 F1*AUC= 0.07764971014269302\n",
            "3308.2586145401 s left to finish\n",
            "e= 0\n",
            "[[57835   263]\n",
            " [   60    21]]\n",
            "AUC= 0.6273662126445355 precision=  0.07394366197183098 recall=  0.25925925925925924 f1=  0.11506849315068493 F1*AUC= 0.07219008474265888\n",
            "2949.989143371582 s left to finish\n",
            "e= 1\n",
            "[[57878   220]\n",
            " [   61    20]]\n",
            "AUC= 0.6215634375123514 precision=  0.08333333333333333 recall=  0.24691358024691357 f1=  0.12461059190031151 F1*AUC= 0.0774533878520064\n",
            "2571.35528755188 s left to finish\n",
            "e= 2\n",
            "[[57907   191]\n",
            " [   63    18]]\n",
            "AUC= 0.6094673367987424 precision=  0.0861244019138756 recall=  0.2222222222222222 f1=  0.12413793103448276 F1*AUC= 0.07565801422329216\n",
            "2206.4694056510925 s left to finish\n",
            "e= 3\n",
            "[[57933   165]\n",
            " [   64    17]]\n",
            "AUC= 0.6035182571466092 precision=  0.09340659340659341 recall=  0.20987654320987653 f1=  0.12927756653992395 F1*AUC= 0.0780213716463297\n",
            "1842.14031457901 s left to finish\n",
            "e= 4\n",
            "[[57954   144]\n",
            " [   64    17]]\n",
            "AUC= 0.6036989862594875 precision=  0.10559006211180125 recall=  0.20987654320987653 f1=  0.14049586776859505 F1*AUC= 0.08481721294554782\n",
            "1472.3855533599854 s left to finish\n",
            "e= 5\n",
            "[[57969   129]\n",
            " [   64    17]]\n",
            "AUC= 0.6038280784829719 precision=  0.11643835616438356 recall=  0.20987654320987653 f1=  0.1497797356828194 F1*AUC= 0.09044120999304427\n",
            "1103.3982167243958 s left to finish\n",
            "e= 6\n",
            "[[57988   110]\n",
            " [   64    17]]\n",
            "AUC= 0.6039915952993856 precision=  0.13385826771653545 recall=  0.20987654320987653 f1=  0.16346153846153846 F1*AUC= 0.0987293953854765\n",
            "735.4889097213745 s left to finish\n",
            "e= 7\n",
            "[[58002    96]\n",
            " [   65    16]]\n",
            "AUC= 0.5979392418684649 precision=  0.14285714285714285 recall=  0.19753086419753085 f1=  0.16580310880829016 F1*AUC= 0.09914018518026362\n",
            "369.3161029815674 s left to finish\n",
            "e= 8\n",
            "[[58013    85]\n",
            " [   65    16]]\n",
            "AUC= 0.5980339094990201 precision=  0.15841584158415842 recall=  0.19753086419753085 f1=  0.17582417582417578 F1*AUC= 0.10514881925257494\n",
            "0.0 s left to finish\n",
            "e= 9\n",
            "[[58021    77]\n",
            " [   65    16]]\n",
            "AUC= 0.5981027586848785 precision=  0.17204301075268819 recall=  0.19753086419753085 f1=  0.1839080459770115 F1*AUC= 0.10999590964319604\n"
          ],
          "name": "stdout"
        }
      ]
    },
    {
      "cell_type": "code",
      "metadata": {
        "id": "_Cj9IZRE6Vus",
        "colab_type": "code",
        "colab": {
          "base_uri": "https://localhost:8080/",
          "height": 1000
        },
        "outputId": "02a322ff-f419-4759-bede-028334f62c09"
      },
      "source": [
        "l=[['e','n_inactive_samples','AUC_roc','AUC_PR','Precision','Recall','F1']]\n",
        "pr,nlist=[],[]\n",
        "for n in np.arange(500,12000,1500):\n",
        "  t0=time.time()\n",
        "  clf1,clf0=fit_RMT(x_act,x_inact[:n])\n",
        "  auc_roc,auc_pr,p,r,f1,best_f1,e,idx_bestf1=metric_RMT(clf1,clf0,x_test,y_test)\n",
        "  pred=clf_predict(clf1,clf0,x_test,e[idx_bestf1],thresh=False)\n",
        "  print((time.time()-t0)*(2-((n-500)/1500)),'s left to finish')\n",
        "  print('e for best f1=',e[idx_bestf1],'best f1=',best_f1)\n",
        "  print(confusion_matrix(y_test,pred))\n",
        "  prec,recall,f1=precision_score(y_test,pred),recall_score(y_test,pred),f1_score(y_test,pred)\n",
        "  print('AUC roc=',auc_roc,'AUC_PR',auc_pr, 'precision= ',prec,'recall= ',recall,'f1= ',f1)\n",
        "  l.append([e,n,auc_roc,auc_pr,prec,recall,best_f1])\n",
        "  pr.append([e,p,r])\n",
        "  nlist.append(n)"
      ],
      "execution_count": 15,
      "outputs": [
        {
          "output_type": "stream",
          "text": [
            "ok\n"
          ],
          "name": "stdout"
        },
        {
          "output_type": "display_data",
          "data": {
            "image/png": "[encoded data removed]",
            "text/plain": [
              "<Figure size 432x288 with 1 Axes>"
            ]
          },
          "metadata": {
            "tags": [],
            "needs_background": "light"
          }
        },
        {
          "output_type": "display_data",
          "data": {
            "image/png": "[encoded data removed]",
            "text/plain": [
              "<Figure size 432x288 with 1 Axes>"
            ]
          },
          "metadata": {
            "tags": [],
            "needs_background": "light"
          }
        },
        {
          "output_type": "stream",
          "text": [
            "3674.977108001709 s left to finish\n",
            "e for best f1= 0.0001 best f1= 0.10743801652892562\n",
            "[[57950   150]\n",
            " [   66    13]]\n",
            "AUC roc= 0.7430424410117868 AUC_PR 0.09744831891182976 precision=  0.07975460122699386 recall=  0.16455696202531644 f1=  0.10743801652892562\n",
            "ok\n"
          ],
          "name": "stdout"
        },
        {
          "output_type": "display_data",
          "data": {
            "image/png": "[encoded data removed]",
            "text/plain": [
              "<Figure size 432x288 with 1 Axes>"
            ]
          },
          "metadata": {
            "tags": [],
            "needs_background": "light"
          }
        },
        {
          "output_type": "display_data",
          "data": {
            "image/png": "[encoded data removed]",
            "text/plain": [
              "<Figure size 432x288 with 1 Axes>"
            ]
          },
          "metadata": {
            "tags": [],
            "needs_background": "light"
          }
        },
        {
          "output_type": "stream",
          "text": [
            "2800.8097293376923 s left to finish\n",
            "e for best f1= 0.0001 best f1= 0.12154696132596685\n",
            "[[58009    91]\n",
            " [   68    11]]\n",
            "AUC roc= 0.7119614806422797 AUC_PR 0.08825080632933376 precision=  0.10784313725490197 recall=  0.13924050632911392 f1=  0.12154696132596685\n",
            "ok\n"
          ],
          "name": "stdout"
        },
        {
          "output_type": "display_data",
          "data": {
            "image/png": "[encoded data removed]",
            "text/plain": [
              "<Figure size 432x288 with 1 Axes>"
            ]
          },
          "metadata": {
            "tags": [],
            "needs_background": "light"
          }
        },
        {
          "output_type": "display_data",
          "data": {
            "image/png": "[encoded data removed]",
            "text/plain": [
              "<Figure size 432x288 with 1 Axes>"
            ]
          },
          "metadata": {
            "tags": [],
            "needs_background": "light"
          }
        },
        {
          "output_type": "stream",
          "text": [
            "0.0 s left to finish\n",
            "e for best f1= 0.001 best f1= 0.1313131313131313\n",
            "[[57994   106]\n",
            " [   66    13]]\n",
            "AUC roc= 0.69070175820824 AUC_PR 0.07228174175431389 precision=  0.1092436974789916 recall=  0.16455696202531644 f1=  0.1313131313131313\n",
            "ok\n"
          ],
          "name": "stdout"
        },
        {
          "output_type": "display_data",
          "data": {
            "image/png": "[encoded data removed]",
            "text/plain": [
              "<Figure size 432x288 with 1 Axes>"
            ]
          },
          "metadata": {
            "tags": [],
            "needs_background": "light"
          }
        },
        {
          "output_type": "display_data",
          "data": {
            "image/png": "[encoded data removed]",
            "text/plain": [
              "<Figure size 432x288 with 1 Axes>"
            ]
          },
          "metadata": {
            "tags": [],
            "needs_background": "light"
          }
        },
        {
          "output_type": "stream",
          "text": [
            "-3910.530655145645 s left to finish\n",
            "e for best f1= 0.001 best f1= 0.13636363636363635\n",
            "[[58015    85]\n",
            " [   67    12]]\n",
            "AUC roc= 0.69053988104316 AUC_PR 0.07459867119020258 precision=  0.12371134020618557 recall=  0.1518987341772152 f1=  0.13636363636363635\n",
            "ok\n"
          ],
          "name": "stdout"
        },
        {
          "output_type": "display_data",
          "data": {
            "image/png": "[encoded data removed]",
            "text/plain": [
              "<Figure size 432x288 with 1 Axes>"
            ]
          },
          "metadata": {
            "tags": [],
            "needs_background": "light"
          }
        },
        {
          "output_type": "display_data",
          "data": {
            "image/png": "[encoded data removed]",
            "text/plain": [
              "<Figure size 432x288 with 1 Axes>"
            ]
          },
          "metadata": {
            "tags": [],
            "needs_background": "light"
          }
        },
        {
          "output_type": "stream",
          "text": [
            "-8608.840184688568 s left to finish\n",
            "e for best f1= 0.001 best f1= 0.12903225806451615\n",
            "[[58034    66]\n",
            " [   69    10]]\n",
            "AUC roc= 0.6963662607028477 AUC_PR 0.05577121722517054 precision=  0.13157894736842105 recall=  0.12658227848101267 f1=  0.12903225806451615\n",
            "ok\n"
          ],
          "name": "stdout"
        },
        {
          "output_type": "display_data",
          "data": {
            "image/png": "[encoded data removed]",
            "text/plain": [
              "<Figure size 432x288 with 1 Axes>"
            ]
          },
          "metadata": {
            "tags": [],
            "needs_background": "light"
          }
        },
        {
          "output_type": "display_data",
          "data": {
            "image/png": "[encoded data removed]",
            "text/plain": [
              "<Figure size 432x288 with 1 Axes>"
            ]
          },
          "metadata": {
            "tags": [],
            "needs_background": "light"
          }
        },
        {
          "output_type": "stream",
          "text": [
            "-13909.00006699562 s left to finish\n",
            "e for best f1= 0.01 best f1= 0.12021857923497267\n",
            "[[58007    93]\n",
            " [   68    11]]\n",
            "AUC roc= 0.6939442035774199 AUC_PR 0.05604881737661856 precision=  0.10576923076923077 recall=  0.13924050632911392 f1=  0.12021857923497267\n",
            "ok\n"
          ],
          "name": "stdout"
        },
        {
          "output_type": "display_data",
          "data": {
            "image/png": "[encoded data removed]",
            "text/plain": [
              "<Figure size 432x288 with 1 Axes>"
            ]
          },
          "metadata": {
            "tags": [],
            "needs_background": "light"
          }
        },
        {
          "output_type": "display_data",
          "data": {
            "image/png": "[encoded data removed]",
            "text/plain": [
              "<Figure size 432x288 with 1 Axes>"
            ]
          },
          "metadata": {
            "tags": [],
            "needs_background": "light"
          }
        },
        {
          "output_type": "stream",
          "text": [
            "-19843.586565971375 s left to finish\n",
            "e for best f1= 0.01 best f1= 0.12121212121212123\n",
            "[[58024    76]\n",
            " [   69    10]]\n",
            "AUC roc= 0.6615026471164948 AUC_PR 0.055692588366939466 precision=  0.11627906976744186 recall=  0.12658227848101267 f1=  0.12121212121212123\n",
            "ok\n"
          ],
          "name": "stdout"
        },
        {
          "output_type": "display_data",
          "data": {
            "image/png": "[encoded data removed]",
            "text/plain": [
              "<Figure size 432x288 with 1 Axes>"
            ]
          },
          "metadata": {
            "tags": [],
            "needs_background": "light"
          }
        },
        {
          "output_type": "display_data",
          "data": {
            "image/png": "[encoded data removed]",
            "text/plain": [
              "<Figure size 432x288 with 1 Axes>"
            ]
          },
          "metadata": {
            "tags": [],
            "needs_background": "light"
          }
        },
        {
          "output_type": "stream",
          "text": [
            "-27005.954751968384 s left to finish\n",
            "e for best f1= 0.01 best f1= 0.12121212121212123\n",
            "[[58024    76]\n",
            " [   69    10]]\n",
            "AUC roc= 0.666837512799843 AUC_PR 0.05469684904968854 precision=  0.11627906976744186 recall=  0.12658227848101267 f1=  0.12121212121212123\n"
          ],
          "name": "stdout"
        }
      ]
    },
    {
      "cell_type": "code",
      "metadata": {
        "id": "zdP1DMe5OCLF",
        "colab_type": "code",
        "colab": {}
      },
      "source": [
        "dat=pd.DataFrame(l[1:],columns=l[0])\n",
        "dat.to_csv('/content/drive/My Drive/Drug_data/RMT_performance2.csv')"
      ],
      "execution_count": 16,
      "outputs": []
    },
    {
      "cell_type": "code",
      "metadata": {
        "id": "-6ibeIRHlbk0",
        "colab_type": "code",
        "colab": {}
      },
      "source": [
        "dat2=pd.DataFrame(pr,index=nlist)\n",
        "dat2.to_csv('/content/drive/My Drive/Drug_data/RMT_performance3.csv')"
      ],
      "execution_count": 17,
      "outputs": []
    },
    {
      "cell_type": "code",
      "metadata": {
        "id": "o81TEIFoVZnc",
        "colab_type": "code",
        "colab": {
          "base_uri": "https://localhost:8080/",
          "height": 1000
        },
        "outputId": "59691245-f69a-430e-d058-aab606b64834"
      },
      "source": [
        ""
      ],
      "execution_count": 20,
      "outputs": [
        {
          "output_type": "execute_result",
          "data": {
            "text/plain": [
              "[[[0.0001,\n",
              "   0.001,\n",
              "   0.01,\n",
              "   0.1,\n",
              "   0.1473684210526316,\n",
              "   0.19473684210526315,\n",
              "   0.24210526315789474,\n",
              "   0.2894736842105263,\n",
              "   0.33684210526315794,\n",
              "   0.38421052631578945,\n",
              "   0.43157894736842106,\n",
              "   0.4789473684210527,\n",
              "   0.5263157894736842,\n",
              "   0.5736842105263158,\n",
              "   0.6210526315789474,\n",
              "   0.6684210526315789,\n",
              "   0.7157894736842105,\n",
              "   0.7631578947368421,\n",
              "   0.8105263157894737,\n",
              "   0.8578947368421053,\n",
              "   0.9052631578947369,\n",
              "   0.9526315789473684,\n",
              "   1.0],\n",
              "  [1,\n",
              "   0.07975460122699386,\n",
              "   0.043209876543209874,\n",
              "   0.027616279069767442,\n",
              "   0.015609264853977844,\n",
              "   0.01141804788213628,\n",
              "   0.00900163666121113,\n",
              "   0.00810753147002347,\n",
              "   0.006599571027883187,\n",
              "   0.005212306127637936,\n",
              "   0.004290617848970252,\n",
              "   0.0035721790292078167,\n",
              "   0.0027952835942264688,\n",
              "   0.0021538918597742126,\n",
              "   0.0018167661562418895,\n",
              "   0.001626687384675148,\n",
              "   0.0015685591041784673,\n",
              "   0.0015409257719835364,\n",
              "   0.0015038753711487294,\n",
              "   0.0014708894226293544,\n",
              "   0.0014324049898462431,\n",
              "   0.0014049439800818068,\n",
              "   0.001384361966845407,\n",
              "   0.0013578782722288112],\n",
              "  [0,\n",
              "   0.16455696202531644,\n",
              "   0.17721518987341772,\n",
              "   0.24050632911392406,\n",
              "   0.3924050632911392,\n",
              "   0.3924050632911392,\n",
              "   0.4177215189873418,\n",
              "   0.4810126582278481,\n",
              "   0.5063291139240507,\n",
              "   0.5189873417721519,\n",
              "   0.569620253164557,\n",
              "   0.6455696202531646,\n",
              "   0.6962025316455697,\n",
              "   0.7341772151898734,\n",
              "   0.7974683544303798,\n",
              "   0.8481012658227848,\n",
              "   0.9113924050632911,\n",
              "   0.9620253164556962,\n",
              "   0.9873417721518988,\n",
              "   1.0,\n",
              "   1.0,\n",
              "   1.0,\n",
              "   1.0,\n",
              "   1.0]],\n",
              " [[0.0001,\n",
              "   0.001,\n",
              "   0.01,\n",
              "   0.1,\n",
              "   0.1473684210526316,\n",
              "   0.19473684210526315,\n",
              "   0.24210526315789474,\n",
              "   0.2894736842105263,\n",
              "   0.33684210526315794,\n",
              "   0.38421052631578945,\n",
              "   0.43157894736842106,\n",
              "   0.4789473684210527,\n",
              "   0.5263157894736842,\n",
              "   0.5736842105263158,\n",
              "   0.6210526315789474,\n",
              "   0.6684210526315789,\n",
              "   0.7157894736842105,\n",
              "   0.7631578947368421,\n",
              "   0.8105263157894737,\n",
              "   0.8578947368421053,\n",
              "   0.9052631578947369,\n",
              "   0.9526315789473684,\n",
              "   1.0],\n",
              "  [1,\n",
              "   0.10784313725490197,\n",
              "   0.0718232044198895,\n",
              "   0.04057971014492753,\n",
              "   0.030065359477124184,\n",
              "   0.02765486725663717,\n",
              "   0.02490421455938697,\n",
              "   0.02122448979591837,\n",
              "   0.018802228412256268,\n",
              "   0.016196760647870425,\n",
              "   0.016012396694214875,\n",
              "   0.013390928725701945,\n",
              "   0.011569052783803326,\n",
              "   0.009548611111111112,\n",
              "   0.007976298997265268,\n",
              "   0.006414701803051317,\n",
              "   0.005032079506856208,\n",
              "   0.0037463205780037465,\n",
              "   0.0029905828455077626,\n",
              "   0.0023584905660377358,\n",
              "   0.002017727174461339,\n",
              "   0.0017278495354634035,\n",
              "   0.0015918135304150084,\n",
              "   0.0013579949805755148],\n",
              "  [0,\n",
              "   0.13924050632911392,\n",
              "   0.16455696202531644,\n",
              "   0.17721518987341772,\n",
              "   0.2911392405063291,\n",
              "   0.31645569620253167,\n",
              "   0.3291139240506329,\n",
              "   0.3291139240506329,\n",
              "   0.34177215189873417,\n",
              "   0.34177215189873417,\n",
              "   0.3924050632911392,\n",
              "   0.3924050632911392,\n",
              "   0.4050632911392405,\n",
              "   0.4177215189873418,\n",
              "   0.4430379746835443,\n",
              "   0.46835443037974683,\n",
              "   0.5063291139240507,\n",
              "   0.5316455696202531,\n",
              "   0.5949367088607594,\n",
              "   0.6329113924050633,\n",
              "   0.7088607594936709,\n",
              "   0.7721518987341772,\n",
              "   0.8860759493670886,\n",
              "   1.0]],\n",
              " [[0.0001,\n",
              "   0.001,\n",
              "   0.01,\n",
              "   0.1,\n",
              "   0.1473684210526316,\n",
              "   0.19473684210526315,\n",
              "   0.24210526315789474,\n",
              "   0.2894736842105263,\n",
              "   0.33684210526315794,\n",
              "   0.38421052631578945,\n",
              "   0.43157894736842106,\n",
              "   0.4789473684210527,\n",
              "   0.5263157894736842,\n",
              "   0.5736842105263158,\n",
              "   0.6210526315789474,\n",
              "   0.6684210526315789,\n",
              "   0.7157894736842105,\n",
              "   0.7631578947368421,\n",
              "   0.8105263157894737,\n",
              "   0.8578947368421053,\n",
              "   0.9052631578947369,\n",
              "   0.9526315789473684,\n",
              "   1.0],\n",
              "  [1,\n",
              "   0.11594202898550725,\n",
              "   0.1092436974789916,\n",
              "   0.06074766355140187,\n",
              "   0.036170212765957444,\n",
              "   0.03214285714285714,\n",
              "   0.0328125,\n",
              "   0.03076923076923077,\n",
              "   0.02977667493796526,\n",
              "   0.028026905829596414,\n",
              "   0.025025025025025027,\n",
              "   0.022988505747126436,\n",
              "   0.02048857368006304,\n",
              "   0.01790633608815427,\n",
              "   0.01579871269748391,\n",
              "   0.013506994693680656,\n",
              "   0.011760242792109257,\n",
              "   0.009029345372460496,\n",
              "   0.007225151337629369,\n",
              "   0.0050151775108882145,\n",
              "   0.003495311167945439,\n",
              "   0.002531227645408023,\n",
              "   0.0019010068295430543,\n",
              "   0.0013578782722288112],\n",
              "  [0,\n",
              "   0.10126582278481013,\n",
              "   0.16455696202531644,\n",
              "   0.16455696202531644,\n",
              "   0.21518987341772153,\n",
              "   0.22784810126582278,\n",
              "   0.26582278481012656,\n",
              "   0.27848101265822783,\n",
              "   0.3037974683544304,\n",
              "   0.31645569620253167,\n",
              "   0.31645569620253167,\n",
              "   0.3291139240506329,\n",
              "   0.3291139240506329,\n",
              "   0.3291139240506329,\n",
              "   0.34177215189873417,\n",
              "   0.35443037974683544,\n",
              "   0.3924050632911392,\n",
              "   0.4050632911392405,\n",
              "   0.46835443037974683,\n",
              "   0.4810126582278481,\n",
              "   0.5189873417721519,\n",
              "   0.5822784810126582,\n",
              "   0.6835443037974683,\n",
              "   1.0]],\n",
              " [[0.0001,\n",
              "   0.001,\n",
              "   0.01,\n",
              "   0.1,\n",
              "   0.1473684210526316,\n",
              "   0.19473684210526315,\n",
              "   0.24210526315789474,\n",
              "   0.2894736842105263,\n",
              "   0.33684210526315794,\n",
              "   0.38421052631578945,\n",
              "   0.43157894736842106,\n",
              "   0.4789473684210527,\n",
              "   0.5263157894736842,\n",
              "   0.5736842105263158,\n",
              "   0.6210526315789474,\n",
              "   0.6684210526315789,\n",
              "   0.7157894736842105,\n",
              "   0.7631578947368421,\n",
              "   0.8105263157894737,\n",
              "   0.8578947368421053,\n",
              "   0.9052631578947369,\n",
              "   0.9526315789473684,\n",
              "   1.0],\n",
              "  [1,\n",
              "   0.14285714285714285,\n",
              "   0.12371134020618557,\n",
              "   0.07878787878787878,\n",
              "   0.04371584699453552,\n",
              "   0.03773584905660377,\n",
              "   0.03563941299790356,\n",
              "   0.032015065913371,\n",
              "   0.03315881326352531,\n",
              "   0.03079416531604538,\n",
              "   0.02785923753665689,\n",
              "   0.028187919463087248,\n",
              "   0.02609727164887307,\n",
              "   0.02572347266881029,\n",
              "   0.023062730627306273,\n",
              "   0.020933977455716585,\n",
              "   0.017615176151761516,\n",
              "   0.014705882352941176,\n",
              "   0.012072434607645875,\n",
              "   0.00915701589011581,\n",
              "   0.0061431180474846424,\n",
              "   0.003997270156965975,\n",
              "   0.0024233484353598147,\n",
              "   0.001357948294829483],\n",
              "  [0,\n",
              "   0.10126582278481013,\n",
              "   0.1518987341772152,\n",
              "   0.16455696202531644,\n",
              "   0.20253164556962025,\n",
              "   0.20253164556962025,\n",
              "   0.21518987341772153,\n",
              "   0.21518987341772153,\n",
              "   0.24050632911392406,\n",
              "   0.24050632911392406,\n",
              "   0.24050632911392406,\n",
              "   0.26582278481012656,\n",
              "   0.27848101265822783,\n",
              "   0.3037974683544304,\n",
              "   0.31645569620253167,\n",
              "   0.3291139240506329,\n",
              "   0.3291139240506329,\n",
              "   0.34177215189873417,\n",
              "   0.379746835443038,\n",
              "   0.43037974683544306,\n",
              "   0.46835443037974683,\n",
              "   0.5189873417721519,\n",
              "   0.5822784810126582,\n",
              "   1.0]],\n",
              " [[0.0001,\n",
              "   0.001,\n",
              "   0.01,\n",
              "   0.1,\n",
              "   0.1473684210526316,\n",
              "   0.19473684210526315,\n",
              "   0.24210526315789474,\n",
              "   0.2894736842105263,\n",
              "   0.33684210526315794,\n",
              "   0.38421052631578945,\n",
              "   0.43157894736842106,\n",
              "   0.4789473684210527,\n",
              "   0.5263157894736842,\n",
              "   0.5736842105263158,\n",
              "   0.6210526315789474,\n",
              "   0.6684210526315789,\n",
              "   0.7157894736842105,\n",
              "   0.7631578947368421,\n",
              "   0.8105263157894737,\n",
              "   0.8578947368421053,\n",
              "   0.9052631578947369,\n",
              "   0.9526315789473684,\n",
              "   1.0],\n",
              "  [1,\n",
              "   0.1111111111111111,\n",
              "   0.13157894736842105,\n",
              "   0.10077519379844961,\n",
              "   0.05415162454873646,\n",
              "   0.04477611940298507,\n",
              "   0.0431266846361186,\n",
              "   0.03931203931203931,\n",
              "   0.035794183445190156,\n",
              "   0.033402922755741124,\n",
              "   0.031936127744510975,\n",
              "   0.030685920577617327,\n",
              "   0.02823920265780731,\n",
              "   0.029542097488921712,\n",
              "   0.028350515463917526,\n",
              "   0.026047565118912798,\n",
              "   0.023506366307541625,\n",
              "   0.020168067226890758,\n",
              "   0.016286644951140065,\n",
              "   0.012351326623970723,\n",
              "   0.008841985168282943,\n",
              "   0.005959849435382685,\n",
              "   0.003207758299142111,\n",
              "   0.0013580650152137663],\n",
              "  [0,\n",
              "   0.06329113924050633,\n",
              "   0.12658227848101267,\n",
              "   0.16455696202531644,\n",
              "   0.189873417721519,\n",
              "   0.189873417721519,\n",
              "   0.20253164556962025,\n",
              "   0.20253164556962025,\n",
              "   0.20253164556962025,\n",
              "   0.20253164556962025,\n",
              "   0.20253164556962025,\n",
              "   0.21518987341772153,\n",
              "   0.21518987341772153,\n",
              "   0.25316455696202533,\n",
              "   0.27848101265822783,\n",
              "   0.2911392405063291,\n",
              "   0.3037974683544304,\n",
              "   0.3037974683544304,\n",
              "   0.31645569620253167,\n",
              "   0.34177215189873417,\n",
              "   0.3924050632911392,\n",
              "   0.4810126582278481,\n",
              "   0.5443037974683544,\n",
              "   1.0]],\n",
              " [[0.0001,\n",
              "   0.001,\n",
              "   0.01,\n",
              "   0.1,\n",
              "   0.1473684210526316,\n",
              "   0.19473684210526315,\n",
              "   0.24210526315789474,\n",
              "   0.2894736842105263,\n",
              "   0.33684210526315794,\n",
              "   0.38421052631578945,\n",
              "   0.43157894736842106,\n",
              "   0.4789473684210527,\n",
              "   0.5263157894736842,\n",
              "   0.5736842105263158,\n",
              "   0.6210526315789474,\n",
              "   0.6684210526315789,\n",
              "   0.7157894736842105,\n",
              "   0.7631578947368421,\n",
              "   0.8105263157894737,\n",
              "   0.8578947368421053,\n",
              "   0.9052631578947369,\n",
              "   0.9526315789473684,\n",
              "   1.0],\n",
              "  [1,\n",
              "   0.1282051282051282,\n",
              "   0.125,\n",
              "   0.10576923076923077,\n",
              "   0.06329113924050633,\n",
              "   0.05474452554744526,\n",
              "   0.049342105263157895,\n",
              "   0.04923076923076923,\n",
              "   0.04507042253521127,\n",
              "   0.0427807486631016,\n",
              "   0.04040404040404041,\n",
              "   0.03827751196172249,\n",
              "   0.035398230088495575,\n",
              "   0.03225806451612903,\n",
              "   0.03225806451612903,\n",
              "   0.029503105590062112,\n",
              "   0.03116531165311653,\n",
              "   0.027315914489311165,\n",
              "   0.022222222222222223,\n",
              "   0.01731301939058172,\n",
              "   0.01239486498450642,\n",
              "   0.007511737089201878,\n",
              "   0.004119040263618577,\n",
              "   0.0013582985161878234],\n",
              "  [0,\n",
              "   0.06329113924050633,\n",
              "   0.10126582278481013,\n",
              "   0.13924050632911392,\n",
              "   0.189873417721519,\n",
              "   0.189873417721519,\n",
              "   0.189873417721519,\n",
              "   0.20253164556962025,\n",
              "   0.20253164556962025,\n",
              "   0.20253164556962025,\n",
              "   0.20253164556962025,\n",
              "   0.20253164556962025,\n",
              "   0.20253164556962025,\n",
              "   0.20253164556962025,\n",
              "   0.22784810126582278,\n",
              "   0.24050632911392406,\n",
              "   0.2911392405063291,\n",
              "   0.2911392405063291,\n",
              "   0.2911392405063291,\n",
              "   0.31645569620253167,\n",
              "   0.35443037974683544,\n",
              "   0.4050632911392405,\n",
              "   0.5063291139240507,\n",
              "   1.0]],\n",
              " [[0.0001,\n",
              "   0.001,\n",
              "   0.01,\n",
              "   0.1,\n",
              "   0.1473684210526316,\n",
              "   0.19473684210526315,\n",
              "   0.24210526315789474,\n",
              "   0.2894736842105263,\n",
              "   0.33684210526315794,\n",
              "   0.38421052631578945,\n",
              "   0.43157894736842106,\n",
              "   0.4789473684210527,\n",
              "   0.5263157894736842,\n",
              "   0.5736842105263158,\n",
              "   0.6210526315789474,\n",
              "   0.6684210526315789,\n",
              "   0.7157894736842105,\n",
              "   0.7631578947368421,\n",
              "   0.8105263157894737,\n",
              "   0.8578947368421053,\n",
              "   0.9052631578947369,\n",
              "   0.9526315789473684,\n",
              "   1.0],\n",
              "  [1,\n",
              "   0.14705882352941177,\n",
              "   0.11320754716981132,\n",
              "   0.11627906976744186,\n",
              "   0.07222222222222222,\n",
              "   0.06542056074766354,\n",
              "   0.059322033898305086,\n",
              "   0.053231939163498096,\n",
              "   0.04912280701754386,\n",
              "   0.049019607843137254,\n",
              "   0.04643962848297214,\n",
              "   0.04398826979472141,\n",
              "   0.04032258064516129,\n",
              "   0.04050632911392405,\n",
              "   0.03695150115473441,\n",
              "   0.03966597077244259,\n",
              "   0.03683241252302026,\n",
              "   0.03296703296703297,\n",
              "   0.02807486631016043,\n",
              "   0.023883696780893044,\n",
              "   0.016563146997929608,\n",
              "   0.011078286558345642,\n",
              "   0.004723247232472325,\n",
              "   0.0013584152967879497],\n",
              "  [0,\n",
              "   0.06329113924050633,\n",
              "   0.0759493670886076,\n",
              "   0.12658227848101267,\n",
              "   0.16455696202531644,\n",
              "   0.17721518987341772,\n",
              "   0.17721518987341772,\n",
              "   0.17721518987341772,\n",
              "   0.17721518987341772,\n",
              "   0.189873417721519,\n",
              "   0.189873417721519,\n",
              "   0.189873417721519,\n",
              "   0.189873417721519,\n",
              "   0.20253164556962025,\n",
              "   0.20253164556962025,\n",
              "   0.24050632911392406,\n",
              "   0.25316455696202533,\n",
              "   0.26582278481012656,\n",
              "   0.26582278481012656,\n",
              "   0.2911392405063291,\n",
              "   0.3037974683544304,\n",
              "   0.379746835443038,\n",
              "   0.4050632911392405,\n",
              "   1.0]],\n",
              " [[0.0001,\n",
              "   0.001,\n",
              "   0.01,\n",
              "   0.1,\n",
              "   0.1473684210526316,\n",
              "   0.19473684210526315,\n",
              "   0.24210526315789474,\n",
              "   0.2894736842105263,\n",
              "   0.33684210526315794,\n",
              "   0.38421052631578945,\n",
              "   0.43157894736842106,\n",
              "   0.4789473684210527,\n",
              "   0.5263157894736842,\n",
              "   0.5736842105263158,\n",
              "   0.6210526315789474,\n",
              "   0.6684210526315789,\n",
              "   0.7157894736842105,\n",
              "   0.7631578947368421,\n",
              "   0.8105263157894737,\n",
              "   0.8578947368421053,\n",
              "   0.9052631578947369,\n",
              "   0.9526315789473684,\n",
              "   1.0],\n",
              "  [1,\n",
              "   0.14705882352941177,\n",
              "   0.1111111111111111,\n",
              "   0.11627906976744186,\n",
              "   0.075,\n",
              "   0.06989247311827956,\n",
              "   0.06698564593301436,\n",
              "   0.06086956521739131,\n",
              "   0.05668016194331984,\n",
              "   0.05405405405405406,\n",
              "   0.05454545454545454,\n",
              "   0.05084745762711865,\n",
              "   0.047619047619047616,\n",
              "   0.04451038575667656,\n",
              "   0.04120879120879121,\n",
              "   0.03722084367245657,\n",
              "   0.03811659192825112,\n",
              "   0.03415559772296015,\n",
              "   0.028985507246376812,\n",
              "   0.025348542458808618,\n",
              "   0.018229166666666668,\n",
              "   0.012042389210019268,\n",
              "   0.005957922174641594,\n",
              "   0.0013584152967879497],\n",
              "  [0,\n",
              "   0.06329113924050633,\n",
              "   0.0759493670886076,\n",
              "   0.12658227848101267,\n",
              "   0.1518987341772152,\n",
              "   0.16455696202531644,\n",
              "   0.17721518987341772,\n",
              "   0.17721518987341772,\n",
              "   0.17721518987341772,\n",
              "   0.17721518987341772,\n",
              "   0.189873417721519,\n",
              "   0.189873417721519,\n",
              "   0.189873417721519,\n",
              "   0.189873417721519,\n",
              "   0.189873417721519,\n",
              "   0.189873417721519,\n",
              "   0.21518987341772153,\n",
              "   0.22784810126582278,\n",
              "   0.22784810126582278,\n",
              "   0.25316455696202533,\n",
              "   0.26582278481012656,\n",
              "   0.31645569620253167,\n",
              "   0.4050632911392405,\n",
              "   1.0]]]"
            ]
          },
          "metadata": {
            "tags": []
          },
          "execution_count": 20
        }
      ]
    },
    {
      "cell_type": "code",
      "metadata": {
        "id": "HxuhH_GZPfOE",
        "colab_type": "code",
        "colab": {
          "base_uri": "https://localhost:8080/",
          "height": 70
        },
        "outputId": "73f7015b-42dd-4014-8495-436b513ffce1"
      },
      "source": [
        "print(confusion_matrix(y_test,pred))\n",
        "auc_sc,prec,recall,f1=roc_auc_score(y_test,pred),precision_score(y_test,pred),recall_score(y_test,pred),f1_score(y_test,pred)\n",
        "print('AUC=',auc_sc, 'precision= ',prec,'recall= ',recall,'f1= ',f1)\n"
      ],
      "execution_count": null,
      "outputs": [
        {
          "output_type": "stream",
          "text": [
            "[[47690 10408]\n",
            " [   36    45]]\n",
            "AUC= 0.688204986976029 precision=  0.004304984215057878 recall=  0.5555555555555556 f1=  0.008543763052971332\n"
          ],
          "name": "stdout"
        }
      ]
    },
    {
      "cell_type": "code",
      "metadata": {
        "id": "omCSUhXLb6nZ",
        "colab_type": "code",
        "colab": {
          "base_uri": "https://localhost:8080/",
          "height": 35
        },
        "outputId": "bf934a54-059d-446b-aa47-279a5217c647"
      },
      "source": [
        ""
      ],
      "execution_count": null,
      "outputs": [
        {
          "output_type": "stream",
          "text": [
            "0.7664473684210527\n"
          ],
          "name": "stdout"
        }
      ]
    },
    {
      "cell_type": "code",
      "metadata": {
        "id": "_N3L94dQcpA-",
        "colab_type": "code",
        "colab": {
          "base_uri": "https://localhost:8080/",
          "height": 287
        },
        "outputId": "c82dedf4-7261-4d6f-e191-e7da66c7a95d"
      },
      "source": [
        ""
      ],
      "execution_count": null,
      "outputs": [
        {
          "output_type": "display_data",
          "data": {
            "image/png": "[encoded data removed]",
            "text/plain": [
              "<Figure size 432x288 with 1 Axes>"
            ]
          },
          "metadata": {
            "tags": [],
            "needs_background": "light"
          }
        }
      ]
    },
    {
      "cell_type": "code",
      "metadata": {
        "id": "Ruz3udVqfusg",
        "colab_type": "code",
        "colab": {
          "base_uri": "https://localhost:8080/",
          "height": 370
        },
        "outputId": "a2cbdf77-8e22-4363-ed34-4c2147ee8210"
      },
      "source": [
        "kfold = StratifiedKFold(n_splits=4, shuffle=True, random_state=42)\n",
        "\n",
        "aucscores,recallsc,precsc,f1sc = [],[],[],[]\n",
        "\n",
        "for train_index, test_index in kfold.split(x,y):   \n",
        "    x_tra,x_tst,y_tra,y_tst = x[train_index], x[test_index],y[train_index],y_train[test_index]\n",
        "    count=counte(y_tra)\n",
        "    x_1,x_0=x_tra[count[1]],x_tra[count[0]]\n",
        "    clf1,clf0=fit_RMT(x_1,x_0[:9500])\n",
        "    pred=clf_predict(clf1,clf0,x_tst,e=2)\n",
        "    \n",
        "    print(confusion_matrix(y_tst,pred))\n",
        "    auc_sc,prec,recall,f1=auc_RMT(clf1,clf0,x_test,y_test),precision_score(y_tst,pred),recall_score(y_tst,pred),f1_score(y_tst,pred)\n",
        "    aucscores.append(auc_sc)\n",
        "    precsc.append(prec)\n",
        "    recallsc.append(recall)\n",
        "    f1sc.append(f1)\n",
        "print('AUC=',np.mean(aucscores), 'precision= ',np.mean(precsc),'recall= ',np.mean(recallsc),'f1=',np.mean(f1sc))\n"
      ],
      "execution_count": null,
      "outputs": [
        {
          "output_type": "error",
          "ename": "KeyboardInterrupt",
          "evalue": "ignored",
          "traceback": [
            "\u001b[0;31m---------------------------------------------------------------------------\u001b[0m",
            "\u001b[0;31mKeyboardInterrupt\u001b[0m                         Traceback (most recent call last)",
            "\u001b[0;32m<ipython-input-14-939825ad7a36>\u001b[0m in \u001b[0;36m<module>\u001b[0;34m()\u001b[0m\n\u001b[1;32m      8\u001b[0m     \u001b[0mx_1\u001b[0m\u001b[0;34m,\u001b[0m\u001b[0mx_0\u001b[0m\u001b[0;34m=\u001b[0m\u001b[0mx_tra\u001b[0m\u001b[0;34m[\u001b[0m\u001b[0mcount\u001b[0m\u001b[0;34m[\u001b[0m\u001b[0;36m1\u001b[0m\u001b[0;34m]\u001b[0m\u001b[0;34m]\u001b[0m\u001b[0;34m,\u001b[0m\u001b[0mx_tra\u001b[0m\u001b[0;34m[\u001b[0m\u001b[0mcount\u001b[0m\u001b[0;34m[\u001b[0m\u001b[0;36m0\u001b[0m\u001b[0;34m]\u001b[0m\u001b[0;34m]\u001b[0m\u001b[0;34m\u001b[0m\u001b[0;34m\u001b[0m\u001b[0m\n\u001b[1;32m      9\u001b[0m     \u001b[0mclf1\u001b[0m\u001b[0;34m,\u001b[0m\u001b[0mclf0\u001b[0m\u001b[0;34m=\u001b[0m\u001b[0mfit_RMT\u001b[0m\u001b[0;34m(\u001b[0m\u001b[0mx_1\u001b[0m\u001b[0;34m,\u001b[0m\u001b[0mx_0\u001b[0m\u001b[0;34m[\u001b[0m\u001b[0;34m:\u001b[0m\u001b[0;36m9500\u001b[0m\u001b[0;34m]\u001b[0m\u001b[0;34m)\u001b[0m\u001b[0;34m\u001b[0m\u001b[0;34m\u001b[0m\u001b[0m\n\u001b[0;32m---> 10\u001b[0;31m     \u001b[0mpred\u001b[0m\u001b[0;34m=\u001b[0m\u001b[0mclf_predict\u001b[0m\u001b[0;34m(\u001b[0m\u001b[0mclf1\u001b[0m\u001b[0;34m,\u001b[0m\u001b[0mclf0\u001b[0m\u001b[0;34m,\u001b[0m\u001b[0mx_tst\u001b[0m\u001b[0;34m,\u001b[0m\u001b[0me\u001b[0m\u001b[0;34m=\u001b[0m\u001b[0;36m2\u001b[0m\u001b[0;34m)\u001b[0m\u001b[0;34m\u001b[0m\u001b[0;34m\u001b[0m\u001b[0m\n\u001b[0m\u001b[1;32m     11\u001b[0m \u001b[0;34m\u001b[0m\u001b[0m\n\u001b[1;32m     12\u001b[0m     \u001b[0mprint\u001b[0m\u001b[0;34m(\u001b[0m\u001b[0mconfusion_matrix\u001b[0m\u001b[0;34m(\u001b[0m\u001b[0my_tst\u001b[0m\u001b[0;34m,\u001b[0m\u001b[0mpred\u001b[0m\u001b[0;34m)\u001b[0m\u001b[0;34m)\u001b[0m\u001b[0;34m\u001b[0m\u001b[0;34m\u001b[0m\u001b[0m\n",
            "\u001b[0;32m<ipython-input-12-71b9c835c32c>\u001b[0m in \u001b[0;36mclf_predict\u001b[0;34m(clf_act, clf_inact, x_test, e)\u001b[0m\n\u001b[1;32m      1\u001b[0m \u001b[0;32mdef\u001b[0m \u001b[0mclf_predict\u001b[0m\u001b[0;34m(\u001b[0m\u001b[0mclf_act\u001b[0m\u001b[0;34m,\u001b[0m\u001b[0mclf_inact\u001b[0m\u001b[0;34m,\u001b[0m\u001b[0mx_test\u001b[0m\u001b[0;34m,\u001b[0m\u001b[0me\u001b[0m\u001b[0;34m=\u001b[0m\u001b[0;36m1\u001b[0m\u001b[0;34m)\u001b[0m\u001b[0;34m:\u001b[0m\u001b[0;34m\u001b[0m\u001b[0;34m\u001b[0m\u001b[0m\n\u001b[1;32m      2\u001b[0m   \u001b[0mpred1\u001b[0m\u001b[0;34m,\u001b[0m\u001b[0mepsilon1\u001b[0m\u001b[0;34m=\u001b[0m \u001b[0mclf_act\u001b[0m\u001b[0;34m.\u001b[0m\u001b[0mpredict\u001b[0m\u001b[0;34m(\u001b[0m\u001b[0mx_test\u001b[0m\u001b[0;34m)\u001b[0m\u001b[0;34m\u001b[0m\u001b[0;34m\u001b[0m\u001b[0m\n\u001b[0;32m----> 3\u001b[0;31m   \u001b[0mpred0\u001b[0m\u001b[0;34m,\u001b[0m\u001b[0mepsilon0\u001b[0m\u001b[0;34m=\u001b[0m \u001b[0mclf_inact\u001b[0m\u001b[0;34m.\u001b[0m\u001b[0mpredict\u001b[0m\u001b[0;34m(\u001b[0m\u001b[0mx_test\u001b[0m\u001b[0;34m)\u001b[0m\u001b[0;34m\u001b[0m\u001b[0;34m\u001b[0m\u001b[0m\n\u001b[0m\u001b[1;32m      4\u001b[0m   \u001b[0mpred\u001b[0m\u001b[0;34m=\u001b[0m\u001b[0;34m[\u001b[0m\u001b[0;36m1\u001b[0m \u001b[0;32mif\u001b[0m \u001b[0mi\u001b[0m\u001b[0;34m<\u001b[0m\u001b[0;34m(\u001b[0m\u001b[0mepsilon1\u001b[0m\u001b[0;34m-\u001b[0m\u001b[0mepsilon0\u001b[0m\u001b[0;34m)\u001b[0m\u001b[0;34m*\u001b[0m\u001b[0me\u001b[0m \u001b[0;32melse\u001b[0m \u001b[0;36m0\u001b[0m \u001b[0;32mfor\u001b[0m \u001b[0mi\u001b[0m \u001b[0;32min\u001b[0m \u001b[0;34m(\u001b[0m\u001b[0mpred1\u001b[0m\u001b[0;34m-\u001b[0m\u001b[0mpred0\u001b[0m\u001b[0;34m)\u001b[0m\u001b[0;34m]\u001b[0m\u001b[0;34m\u001b[0m\u001b[0;34m\u001b[0m\u001b[0m\n\u001b[1;32m      5\u001b[0m   \u001b[0;32mreturn\u001b[0m \u001b[0mpred\u001b[0m\u001b[0;34m\u001b[0m\u001b[0;34m\u001b[0m\u001b[0m\n",
            "\u001b[0;32m<ipython-input-10-202db32639ad>\u001b[0m in \u001b[0;36mpredict\u001b[0;34m(self, test, epsilon_multiple)\u001b[0m\n\u001b[1;32m     43\u001b[0m         \u001b[0;32mfor\u001b[0m \u001b[0mmol_vec_idx\u001b[0m \u001b[0;32min\u001b[0m \u001b[0mnp\u001b[0m\u001b[0;34m.\u001b[0m\u001b[0marange\u001b[0m\u001b[0;34m(\u001b[0m\u001b[0mtest\u001b[0m\u001b[0;34m.\u001b[0m\u001b[0mshape\u001b[0m\u001b[0;34m[\u001b[0m\u001b[0;36m0\u001b[0m\u001b[0;34m]\u001b[0m\u001b[0;34m)\u001b[0m\u001b[0;34m:\u001b[0m\u001b[0;34m\u001b[0m\u001b[0;34m\u001b[0m\u001b[0m\n\u001b[1;32m     44\u001b[0m             \u001b[0mtrial_mol\u001b[0m\u001b[0;34m=\u001b[0m \u001b[0mtest\u001b[0m\u001b[0;34m[\u001b[0m\u001b[0mmol_vec_idx\u001b[0m\u001b[0;34m]\u001b[0m\u001b[0;34m\u001b[0m\u001b[0;34m\u001b[0m\u001b[0m\n\u001b[0;32m---> 45\u001b[0;31m             \u001b[0mtrial_mol_proj\u001b[0m\u001b[0;34m=\u001b[0m \u001b[0mprojection\u001b[0m\u001b[0;34m(\u001b[0m\u001b[0mtrial_mol\u001b[0m\u001b[0;34m,\u001b[0m\u001b[0mself\u001b[0m\u001b[0;34m.\u001b[0m\u001b[0mdim_v\u001b[0m\u001b[0;34m,\u001b[0m\u001b[0mself\u001b[0m\u001b[0;34m.\u001b[0m\u001b[0mp\u001b[0m\u001b[0;34m,\u001b[0m\u001b[0mself\u001b[0m\u001b[0;34m.\u001b[0m\u001b[0mfeature_vecs\u001b[0m\u001b[0;34m)\u001b[0m\u001b[0;34m\u001b[0m\u001b[0;34m\u001b[0m\u001b[0m\n\u001b[0m\u001b[1;32m     46\u001b[0m             \u001b[0mtest_similarity\u001b[0m\u001b[0;34m[\u001b[0m\u001b[0mmol_vec_idx\u001b[0m\u001b[0;34m]\u001b[0m\u001b[0;34m=\u001b[0m\u001b[0mnp\u001b[0m\u001b[0;34m.\u001b[0m\u001b[0mlinalg\u001b[0m\u001b[0;34m.\u001b[0m\u001b[0mnorm\u001b[0m\u001b[0;34m(\u001b[0m\u001b[0mtrial_mol\u001b[0m\u001b[0;34m-\u001b[0m\u001b[0mtrial_mol_proj\u001b[0m\u001b[0;34m)\u001b[0m\u001b[0;34m\u001b[0m\u001b[0;34m\u001b[0m\u001b[0m\n\u001b[1;32m     47\u001b[0m         \u001b[0;31m#predictions= np.array([1 if x<self.epsilon*epsilon_multiple else 0 for x in test_similarity])\u001b[0m\u001b[0;34m\u001b[0m\u001b[0;34m\u001b[0m\u001b[0;34m\u001b[0m\u001b[0m\n",
            "\u001b[0;32m<ipython-input-10-202db32639ad>\u001b[0m in \u001b[0;36mprojection\u001b[0;34m(trial_mol, dim_v, p, feature_vecs)\u001b[0m\n\u001b[1;32m     52\u001b[0m     \u001b[0;32mfor\u001b[0m \u001b[0midx\u001b[0m \u001b[0;32min\u001b[0m \u001b[0mnp\u001b[0m\u001b[0;34m.\u001b[0m\u001b[0marange\u001b[0m\u001b[0;34m(\u001b[0m\u001b[0mdim_v\u001b[0m\u001b[0;34m)\u001b[0m\u001b[0;34m:\u001b[0m\u001b[0;34m\u001b[0m\u001b[0;34m\u001b[0m\u001b[0m\n\u001b[1;32m     53\u001b[0m         \u001b[0mdotprod\u001b[0m\u001b[0;34m=\u001b[0m \u001b[0mnp\u001b[0m\u001b[0;34m.\u001b[0m\u001b[0mvdot\u001b[0m\u001b[0;34m(\u001b[0m\u001b[0mfeature_vecs\u001b[0m\u001b[0;34m[\u001b[0m\u001b[0;34m:\u001b[0m\u001b[0;34m,\u001b[0m\u001b[0midx\u001b[0m\u001b[0;34m]\u001b[0m\u001b[0;34m,\u001b[0m\u001b[0mtrial_mol\u001b[0m\u001b[0;34m)\u001b[0m\u001b[0;34m.\u001b[0m\u001b[0mreal\u001b[0m\u001b[0;34m\u001b[0m\u001b[0;34m\u001b[0m\u001b[0m\n\u001b[0;32m---> 54\u001b[0;31m         \u001b[0mtrial_mol_proj\u001b[0m\u001b[0;34m=\u001b[0m \u001b[0mtrial_mol_proj\u001b[0m\u001b[0;34m+\u001b[0m\u001b[0mdotprod\u001b[0m\u001b[0;34m*\u001b[0m\u001b[0mfeature_vecs\u001b[0m\u001b[0;34m[\u001b[0m\u001b[0;34m:\u001b[0m\u001b[0;34m,\u001b[0m\u001b[0midx\u001b[0m\u001b[0;34m]\u001b[0m\u001b[0;34m\u001b[0m\u001b[0;34m\u001b[0m\u001b[0m\n\u001b[0m\u001b[1;32m     55\u001b[0m     \u001b[0;32mreturn\u001b[0m \u001b[0mtrial_mol_proj\u001b[0m\u001b[0;34m.\u001b[0m\u001b[0mreal\u001b[0m\u001b[0;34m\u001b[0m\u001b[0;34m\u001b[0m\u001b[0m\n",
            "\u001b[0;31mKeyboardInterrupt\u001b[0m: "
          ]
        }
      ]
    },
    {
      "cell_type": "code",
      "metadata": {
        "id": "NM13nr77IjTr",
        "colab_type": "code",
        "colab": {}
      },
      "source": [
        "class RMTClassifier(object):\n",
        "    def __init__(self,threshold=1,train_cutoff=0.95):\n",
        "        self.threshold=threshold\n",
        "        self.train_cutoff=train_cutoff\n",
        "        self.epsilon = None\n",
        "        self.feature_vecs = None\n",
        "        self.dim_v= None\n",
        "        self.p = None\n",
        "    def fit(self,train_mat):\n",
        "        n,p=train_mat.shape\n",
        "        self.p=p\n",
        "        gamma= p/n\n",
        "        thresh= ((1+np.sqrt(gamma))**2)*self.threshold\n",
        "        c_mat=np.dot(train_mat.T,train_mat)/n\n",
        "\n",
        "        evals,evecs=np.linalg.eig(c_mat)\n",
        "        idx= evals.argsort()\n",
        "        idx= idx[::-1]\n",
        "        evals= evals[idx]\n",
        "        evecs= evecs[:,idx]\n",
        "\n",
        "        dim_v= evals[evals>thresh].shape[0]\n",
        "        feature_vecs= np.ascontiguousarray(evecs[:,:dim_v].T,dtype=np.complex128)\n",
        "        self.dim_v,self.feature_vecs=dim_v,np.complex_(feature_vecs)\n",
        "        train_mat=np.ascontiguousarray(train_mat,dtype=np.complex128)\n",
        "        similarity=np.zeros(n)\n",
        "        for mol_vec_idx in np.arange(n):\n",
        "          trial_mol= np.complex_(train_mat[mol_vec_idx])\n",
        "          similarity[mol_vec_idx]=find_similarity(trial_mol,dim_v,p,feature_vecs)\n",
        "        similarity.sort()\n",
        "  \n",
        "        cutoff_idx= int(self.train_cutoff*len(similarity))\n",
        "        epsilon= similarity[cutoff_idx]\n",
        "        self.epsilon= epsilon\n",
        "\n",
        "    def predict(self,test, epsilon_multiple = 1):\n",
        "        test=np.ascontiguousarray(test,dtype=np.complex128)\n",
        "        test_similarity=np.zeros(test.shape[0])\n",
        "        for mol_vec_idx in np.arange(test.shape[0]):\n",
        "            trial_mol= np.complex_(test[mol_vec_idx])\n",
        "            test_similarity[mol_vec_idx]= find_similarity(trial_mol,self.dim_v,self.p,self.feature_vecs)\n",
        "        trial_mol_proj= np.zeros((self.dim_v,self.p),dtype=np.complex128)\n",
        "        test_similarity_2=find_similarity2(test,trial_mol_proj,self.feature_vecs)\n",
        "        \n",
        "        #predictions= np.array([1 if x<self.epsilon*epsilon_multiple else 0 for x in test_similarity])\n",
        "        predictions= test_similarity,test_similarity_2,self.epsilon\n",
        "        return predictions\n",
        "\n",
        "\n",
        "@guvectorize([\"c16[:],c16[:,:],c16[:,:],f8[:]\"], \"(p),(dim_v,p), (dim_v,p) -> ()\", nopython=True, target=\"cpu\")\n",
        "def find_similarity2(trial_mol,trial_mol_proj,feature_vecs,similarity):\n",
        "    dummy=np.zeros_like(trial_mol_proj)\n",
        "    for idx in prange(feature_vecs.shape[0]):\n",
        "        dotprod= np.vdot(feature_vecs[idx],trial_mol).real\n",
        "        dummy[idx]=dotprod*feature_vecs[idx]  \n",
        "    projection=np.sum(dummy,axis=0).real\n",
        "    similarity[0]=np.linalg.norm(trial_mol-projection)\n",
        "\n",
        "\n",
        "\n",
        "\n",
        "\n",
        "\n",
        "\n",
        "\n",
        "@njit(parallel=True)\n",
        "def find_similarity(trial_mol,dim_v,p,feature_vecs):\n",
        "    trial_mol_proj= np.zeros((dim_v,p),dtype=np.complex128)\n",
        "    for idx in prange(dim_v):\n",
        "        dotprod= np.vdot(feature_vecs[idx],trial_mol).real\n",
        "        trial_mol_proj[idx]=dotprod*feature_vecs[idx]  \n",
        "    projection=np.sum(trial_mol_proj,axis=0).real\n",
        "    similarity=np.linalg.norm(trial_mol-projection)\n",
        "    return similarity\n",
        "\n"
      ],
      "execution_count": null,
      "outputs": []
    }
  ]
}